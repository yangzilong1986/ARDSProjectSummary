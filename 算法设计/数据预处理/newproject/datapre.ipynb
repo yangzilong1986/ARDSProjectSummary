{
 "cells": [
  {
   "cell_type": "markdown",
   "metadata": {},
   "source": [
    "项目说明：由于前期数据提取，模型建立过程中存在很多问题。针对之前的各种疑问，重新提取了数据，利用更加规范的形式来处理数据建立模型。\n",
    "这个notebook中主要是对数据的一些前期探索和预处理、可视化的工作"
   ]
  },
  {
   "cell_type": "markdown",
   "metadata": {},
   "source": [
    "数据库连接"
   ]
  },
  {
   "cell_type": "code",
   "execution_count": 1,
   "metadata": {
    "collapsed": true
   },
   "outputs": [],
   "source": [
    "from sqlalchemy import create_engine\n",
    "import pandas as pd\n",
    "import matplotlib.pyplot as plt"
   ]
  },
  {
   "cell_type": "code",
   "execution_count": 3,
   "metadata": {},
   "outputs": [
    {
     "name": "stdout",
     "output_type": "stream",
     "text": [
      "2018-05-10 09:30:10,380 INFO sqlalchemy.engine.base.Engine select version()\n",
      "2018-05-10 09:30:10,381 INFO sqlalchemy.engine.base.Engine {}\n",
      "2018-05-10 09:30:10,382 INFO sqlalchemy.engine.base.Engine select current_schema()\n",
      "2018-05-10 09:30:10,383 INFO sqlalchemy.engine.base.Engine {}\n",
      "2018-05-10 09:30:10,385 INFO sqlalchemy.engine.base.Engine SELECT CAST('test plain returns' AS VARCHAR(60)) AS anon_1\n",
      "2018-05-10 09:30:10,386 INFO sqlalchemy.engine.base.Engine {}\n",
      "2018-05-10 09:30:10,389 INFO sqlalchemy.engine.base.Engine SELECT CAST('test unicode returns' AS VARCHAR(60)) AS anon_1\n",
      "2018-05-10 09:30:10,389 INFO sqlalchemy.engine.base.Engine {}\n",
      "2018-05-10 09:30:10,391 INFO sqlalchemy.engine.base.Engine show standard_conforming_strings\n",
      "2018-05-10 09:30:10,392 INFO sqlalchemy.engine.base.Engine {}\n",
      "2018-05-10 09:30:10,394 INFO sqlalchemy.engine.base.Engine select * from mimiciii.secondData\n",
      "2018-05-10 09:30:10,395 INFO sqlalchemy.engine.base.Engine {}\n"
     ]
    }
   ],
   "source": [
    "engine= create_engine('postgresql://postgres@localhost:5432/mimic',echo = True)\n",
    "sql='select * from mimiciii.secondData'\n",
    "data=pd.read_sql_query(sql, con=engine, index_col=None, coerce_float=True, params=None, parse_dates=None,chunksize=None)"
   ]
  },
  {
   "cell_type": "markdown",
   "metadata": {},
   "source": [
    "数据整体了解"
   ]
  },
  {
   "cell_type": "code",
   "execution_count": 64,
   "metadata": {},
   "outputs": [
    {
     "data": {
      "text/html": [
       "<div>\n",
       "<style>\n",
       "    .dataframe thead tr:only-child th {\n",
       "        text-align: right;\n",
       "    }\n",
       "\n",
       "    .dataframe thead th {\n",
       "        text-align: left;\n",
       "    }\n",
       "\n",
       "    .dataframe tbody tr th {\n",
       "        vertical-align: top;\n",
       "    }\n",
       "</style>\n",
       "<table border=\"1\" class=\"dataframe\">\n",
       "  <thead>\n",
       "    <tr style=\"text-align: right;\">\n",
       "      <th></th>\n",
       "      <th>subject_id</th>\n",
       "      <th>hadm_id</th>\n",
       "      <th>icustay_id</th>\n",
       "      <th>charttime</th>\n",
       "      <th>pao2</th>\n",
       "      <th>spo2</th>\n",
       "      <th>fio2</th>\n",
       "      <th>hr</th>\n",
       "      <th>temp</th>\n",
       "      <th>nbps</th>\n",
       "      <th>...</th>\n",
       "      <th>age</th>\n",
       "      <th>ethnicity</th>\n",
       "      <th>admission_type</th>\n",
       "      <th>gender</th>\n",
       "      <th>height_first</th>\n",
       "      <th>height_min</th>\n",
       "      <th>height_max</th>\n",
       "      <th>weight_first</th>\n",
       "      <th>weight_min</th>\n",
       "      <th>weight_max</th>\n",
       "    </tr>\n",
       "  </thead>\n",
       "  <tbody>\n",
       "    <tr>\n",
       "      <th>0</th>\n",
       "      <td>1314</td>\n",
       "      <td>161745</td>\n",
       "      <td>204270</td>\n",
       "      <td>2126-12-30 15:35:00</td>\n",
       "      <td>198.0</td>\n",
       "      <td>96.0</td>\n",
       "      <td>50.0</td>\n",
       "      <td>86.0</td>\n",
       "      <td>37.555599</td>\n",
       "      <td>NaN</td>\n",
       "      <td>...</td>\n",
       "      <td>70.4842</td>\n",
       "      <td>OTHER</td>\n",
       "      <td>EMERGENCY</td>\n",
       "      <td>M</td>\n",
       "      <td>180.34</td>\n",
       "      <td>180.34</td>\n",
       "      <td>180.34</td>\n",
       "      <td>100.0</td>\n",
       "      <td>100.0</td>\n",
       "      <td>109.8</td>\n",
       "    </tr>\n",
       "    <tr>\n",
       "      <th>1</th>\n",
       "      <td>1314</td>\n",
       "      <td>161745</td>\n",
       "      <td>204270</td>\n",
       "      <td>2126-12-30 14:17:00</td>\n",
       "      <td>188.0</td>\n",
       "      <td>100.0</td>\n",
       "      <td>50.0</td>\n",
       "      <td>95.0</td>\n",
       "      <td>37.777802</td>\n",
       "      <td>NaN</td>\n",
       "      <td>...</td>\n",
       "      <td>70.4842</td>\n",
       "      <td>OTHER</td>\n",
       "      <td>EMERGENCY</td>\n",
       "      <td>M</td>\n",
       "      <td>180.34</td>\n",
       "      <td>180.34</td>\n",
       "      <td>180.34</td>\n",
       "      <td>100.0</td>\n",
       "      <td>100.0</td>\n",
       "      <td>109.8</td>\n",
       "    </tr>\n",
       "    <tr>\n",
       "      <th>2</th>\n",
       "      <td>1314</td>\n",
       "      <td>161745</td>\n",
       "      <td>204270</td>\n",
       "      <td>2126-12-30 08:03:00</td>\n",
       "      <td>142.0</td>\n",
       "      <td>100.0</td>\n",
       "      <td>50.0</td>\n",
       "      <td>92.0</td>\n",
       "      <td>38.333333</td>\n",
       "      <td>NaN</td>\n",
       "      <td>...</td>\n",
       "      <td>70.4842</td>\n",
       "      <td>OTHER</td>\n",
       "      <td>EMERGENCY</td>\n",
       "      <td>M</td>\n",
       "      <td>180.34</td>\n",
       "      <td>180.34</td>\n",
       "      <td>180.34</td>\n",
       "      <td>100.0</td>\n",
       "      <td>100.0</td>\n",
       "      <td>109.8</td>\n",
       "    </tr>\n",
       "    <tr>\n",
       "      <th>3</th>\n",
       "      <td>1314</td>\n",
       "      <td>161745</td>\n",
       "      <td>204270</td>\n",
       "      <td>2126-12-30 04:32:00</td>\n",
       "      <td>105.0</td>\n",
       "      <td>100.0</td>\n",
       "      <td>50.0</td>\n",
       "      <td>100.0</td>\n",
       "      <td>38.944444</td>\n",
       "      <td>NaN</td>\n",
       "      <td>...</td>\n",
       "      <td>70.4842</td>\n",
       "      <td>OTHER</td>\n",
       "      <td>EMERGENCY</td>\n",
       "      <td>M</td>\n",
       "      <td>180.34</td>\n",
       "      <td>180.34</td>\n",
       "      <td>180.34</td>\n",
       "      <td>100.0</td>\n",
       "      <td>100.0</td>\n",
       "      <td>109.8</td>\n",
       "    </tr>\n",
       "    <tr>\n",
       "      <th>4</th>\n",
       "      <td>1314</td>\n",
       "      <td>161745</td>\n",
       "      <td>204270</td>\n",
       "      <td>2126-12-30 02:40:00</td>\n",
       "      <td>116.0</td>\n",
       "      <td>100.0</td>\n",
       "      <td>50.0</td>\n",
       "      <td>106.0</td>\n",
       "      <td>39.444444</td>\n",
       "      <td>134.0</td>\n",
       "      <td>...</td>\n",
       "      <td>70.4842</td>\n",
       "      <td>OTHER</td>\n",
       "      <td>EMERGENCY</td>\n",
       "      <td>M</td>\n",
       "      <td>180.34</td>\n",
       "      <td>180.34</td>\n",
       "      <td>180.34</td>\n",
       "      <td>100.0</td>\n",
       "      <td>100.0</td>\n",
       "      <td>109.8</td>\n",
       "    </tr>\n",
       "  </tbody>\n",
       "</table>\n",
       "<p>5 rows × 38 columns</p>\n",
       "</div>"
      ],
      "text/plain": [
       "   subject_id  hadm_id  icustay_id           charttime   pao2   spo2  fio2  \\\n",
       "0        1314   161745      204270 2126-12-30 15:35:00  198.0   96.0  50.0   \n",
       "1        1314   161745      204270 2126-12-30 14:17:00  188.0  100.0  50.0   \n",
       "2        1314   161745      204270 2126-12-30 08:03:00  142.0  100.0  50.0   \n",
       "3        1314   161745      204270 2126-12-30 04:32:00  105.0  100.0  50.0   \n",
       "4        1314   161745      204270 2126-12-30 02:40:00  116.0  100.0  50.0   \n",
       "\n",
       "      hr       temp   nbps     ...          age  ethnicity  admission_type  \\\n",
       "0   86.0  37.555599    NaN     ...      70.4842      OTHER       EMERGENCY   \n",
       "1   95.0  37.777802    NaN     ...      70.4842      OTHER       EMERGENCY   \n",
       "2   92.0  38.333333    NaN     ...      70.4842      OTHER       EMERGENCY   \n",
       "3  100.0  38.944444    NaN     ...      70.4842      OTHER       EMERGENCY   \n",
       "4  106.0  39.444444  134.0     ...      70.4842      OTHER       EMERGENCY   \n",
       "\n",
       "   gender  height_first  height_min  height_max  weight_first  weight_min  \\\n",
       "0       M        180.34      180.34      180.34         100.0       100.0   \n",
       "1       M        180.34      180.34      180.34         100.0       100.0   \n",
       "2       M        180.34      180.34      180.34         100.0       100.0   \n",
       "3       M        180.34      180.34      180.34         100.0       100.0   \n",
       "4       M        180.34      180.34      180.34         100.0       100.0   \n",
       "\n",
       "   weight_max  \n",
       "0       109.8  \n",
       "1       109.8  \n",
       "2       109.8  \n",
       "3       109.8  \n",
       "4       109.8  \n",
       "\n",
       "[5 rows x 38 columns]"
      ]
     },
     "execution_count": 64,
     "metadata": {},
     "output_type": "execute_result"
    }
   ],
   "source": [
    "data.head()"
   ]
  },
  {
   "cell_type": "code",
   "execution_count": 4,
   "metadata": {},
   "outputs": [
    {
     "data": {
      "text/html": [
       "<div>\n",
       "<style>\n",
       "    .dataframe thead tr:only-child th {\n",
       "        text-align: right;\n",
       "    }\n",
       "\n",
       "    .dataframe thead th {\n",
       "        text-align: left;\n",
       "    }\n",
       "\n",
       "    .dataframe tbody tr th {\n",
       "        vertical-align: top;\n",
       "    }\n",
       "</style>\n",
       "<table border=\"1\" class=\"dataframe\">\n",
       "  <thead>\n",
       "    <tr style=\"text-align: right;\">\n",
       "      <th></th>\n",
       "      <th>subject_id</th>\n",
       "      <th>hadm_id</th>\n",
       "      <th>icustay_id</th>\n",
       "      <th>pao2</th>\n",
       "      <th>spo2</th>\n",
       "      <th>fio2</th>\n",
       "      <th>hr</th>\n",
       "      <th>temp</th>\n",
       "      <th>nbps</th>\n",
       "      <th>nbpd</th>\n",
       "      <th>...</th>\n",
       "      <th>gcsmotor</th>\n",
       "      <th>gcsverbal</th>\n",
       "      <th>gcseyes</th>\n",
       "      <th>age</th>\n",
       "      <th>height_first</th>\n",
       "      <th>height_min</th>\n",
       "      <th>height_max</th>\n",
       "      <th>weight_first</th>\n",
       "      <th>weight_min</th>\n",
       "      <th>weight_max</th>\n",
       "    </tr>\n",
       "  </thead>\n",
       "  <tbody>\n",
       "    <tr>\n",
       "      <th>count</th>\n",
       "      <td>195766.000000</td>\n",
       "      <td>195766.000000</td>\n",
       "      <td>195766.000000</td>\n",
       "      <td>195766.000000</td>\n",
       "      <td>193788.000000</td>\n",
       "      <td>179758.000000</td>\n",
       "      <td>194527.000000</td>\n",
       "      <td>185786.000000</td>\n",
       "      <td>53028.000000</td>\n",
       "      <td>52880.000000</td>\n",
       "      <td>...</td>\n",
       "      <td>177518.000000</td>\n",
       "      <td>177428.000000</td>\n",
       "      <td>177724.000000</td>\n",
       "      <td>195766.000000</td>\n",
       "      <td>154892.000000</td>\n",
       "      <td>154892.000000</td>\n",
       "      <td>154892.000000</td>\n",
       "      <td>194803.000000</td>\n",
       "      <td>194803.000000</td>\n",
       "      <td>194803.000000</td>\n",
       "    </tr>\n",
       "    <tr>\n",
       "      <th>mean</th>\n",
       "      <td>31531.171393</td>\n",
       "      <td>150694.162480</td>\n",
       "      <td>250276.891610</td>\n",
       "      <td>125.205564</td>\n",
       "      <td>97.024466</td>\n",
       "      <td>54.466941</td>\n",
       "      <td>88.946707</td>\n",
       "      <td>37.104551</td>\n",
       "      <td>114.889328</td>\n",
       "      <td>56.734607</td>\n",
       "      <td>...</td>\n",
       "      <td>4.257399</td>\n",
       "      <td>3.155483</td>\n",
       "      <td>2.586674</td>\n",
       "      <td>67.948925</td>\n",
       "      <td>169.589837</td>\n",
       "      <td>169.572955</td>\n",
       "      <td>170.131169</td>\n",
       "      <td>86.673485</td>\n",
       "      <td>84.131689</td>\n",
       "      <td>94.860322</td>\n",
       "    </tr>\n",
       "    <tr>\n",
       "      <th>std</th>\n",
       "      <td>26891.176267</td>\n",
       "      <td>28738.898737</td>\n",
       "      <td>28699.036011</td>\n",
       "      <td>68.695434</td>\n",
       "      <td>4.134335</td>\n",
       "      <td>18.264322</td>\n",
       "      <td>17.665136</td>\n",
       "      <td>0.914936</td>\n",
       "      <td>23.726985</td>\n",
       "      <td>15.292901</td>\n",
       "      <td>...</td>\n",
       "      <td>2.028651</td>\n",
       "      <td>1.550719</td>\n",
       "      <td>1.237336</td>\n",
       "      <td>37.258348</td>\n",
       "      <td>17.268233</td>\n",
       "      <td>17.272872</td>\n",
       "      <td>15.195771</td>\n",
       "      <td>27.000886</td>\n",
       "      <td>25.619175</td>\n",
       "      <td>30.113277</td>\n",
       "    </tr>\n",
       "    <tr>\n",
       "      <th>min</th>\n",
       "      <td>3.000000</td>\n",
       "      <td>100009.000000</td>\n",
       "      <td>200003.000000</td>\n",
       "      <td>3.000000</td>\n",
       "      <td>0.500000</td>\n",
       "      <td>20.999999</td>\n",
       "      <td>12.000000</td>\n",
       "      <td>22.000000</td>\n",
       "      <td>0.200000</td>\n",
       "      <td>10.000000</td>\n",
       "      <td>...</td>\n",
       "      <td>1.000000</td>\n",
       "      <td>1.000000</td>\n",
       "      <td>1.000000</td>\n",
       "      <td>16.474200</td>\n",
       "      <td>5.080000</td>\n",
       "      <td>5.080000</td>\n",
       "      <td>5.080000</td>\n",
       "      <td>20.500000</td>\n",
       "      <td>0.600000</td>\n",
       "      <td>20.500000</td>\n",
       "    </tr>\n",
       "    <tr>\n",
       "      <th>25%</th>\n",
       "      <td>11554.000000</td>\n",
       "      <td>126256.000000</td>\n",
       "      <td>225796.000000</td>\n",
       "      <td>84.000000</td>\n",
       "      <td>96.000000</td>\n",
       "      <td>40.000001</td>\n",
       "      <td>77.000000</td>\n",
       "      <td>36.555556</td>\n",
       "      <td>98.000000</td>\n",
       "      <td>46.000000</td>\n",
       "      <td>...</td>\n",
       "      <td>1.000000</td>\n",
       "      <td>1.000000</td>\n",
       "      <td>1.000000</td>\n",
       "      <td>53.275200</td>\n",
       "      <td>162.560000</td>\n",
       "      <td>162.560000</td>\n",
       "      <td>162.560000</td>\n",
       "      <td>70.000000</td>\n",
       "      <td>67.650000</td>\n",
       "      <td>75.500000</td>\n",
       "    </tr>\n",
       "    <tr>\n",
       "      <th>50%</th>\n",
       "      <td>23210.000000</td>\n",
       "      <td>150624.000000</td>\n",
       "      <td>250436.000000</td>\n",
       "      <td>106.000000</td>\n",
       "      <td>98.000000</td>\n",
       "      <td>50.000000</td>\n",
       "      <td>88.000000</td>\n",
       "      <td>37.111113</td>\n",
       "      <td>112.000000</td>\n",
       "      <td>55.000000</td>\n",
       "      <td>...</td>\n",
       "      <td>5.000000</td>\n",
       "      <td>4.000000</td>\n",
       "      <td>3.000000</td>\n",
       "      <td>66.043200</td>\n",
       "      <td>170.180000</td>\n",
       "      <td>170.180000</td>\n",
       "      <td>170.180000</td>\n",
       "      <td>82.000000</td>\n",
       "      <td>80.000000</td>\n",
       "      <td>90.400000</td>\n",
       "    </tr>\n",
       "    <tr>\n",
       "      <th>75%</th>\n",
       "      <td>46411.000000</td>\n",
       "      <td>176126.000000</td>\n",
       "      <td>275324.000000</td>\n",
       "      <td>140.000000</td>\n",
       "      <td>100.000000</td>\n",
       "      <td>60.000000</td>\n",
       "      <td>100.000000</td>\n",
       "      <td>37.700001</td>\n",
       "      <td>130.000000</td>\n",
       "      <td>65.000000</td>\n",
       "      <td>...</td>\n",
       "      <td>6.000000</td>\n",
       "      <td>4.000000</td>\n",
       "      <td>4.000000</td>\n",
       "      <td>76.535700</td>\n",
       "      <td>177.800000</td>\n",
       "      <td>177.800000</td>\n",
       "      <td>177.800000</td>\n",
       "      <td>99.000000</td>\n",
       "      <td>96.200000</td>\n",
       "      <td>107.000000</td>\n",
       "    </tr>\n",
       "    <tr>\n",
       "      <th>max</th>\n",
       "      <td>99995.000000</td>\n",
       "      <td>199995.000000</td>\n",
       "      <td>299995.000000</td>\n",
       "      <td>691.000000</td>\n",
       "      <td>100.000000</td>\n",
       "      <td>100.000000</td>\n",
       "      <td>285.000000</td>\n",
       "      <td>42.777802</td>\n",
       "      <td>263.000000</td>\n",
       "      <td>200.000000</td>\n",
       "      <td>...</td>\n",
       "      <td>6.000000</td>\n",
       "      <td>5.000000</td>\n",
       "      <td>4.000000</td>\n",
       "      <td>301.076100</td>\n",
       "      <td>454.660000</td>\n",
       "      <td>454.660000</td>\n",
       "      <td>454.660000</td>\n",
       "      <td>472.000000</td>\n",
       "      <td>296.800000</td>\n",
       "      <td>472.000000</td>\n",
       "    </tr>\n",
       "  </tbody>\n",
       "</table>\n",
       "<p>8 rows × 31 columns</p>\n",
       "</div>"
      ],
      "text/plain": [
       "          subject_id        hadm_id     icustay_id           pao2  \\\n",
       "count  195766.000000  195766.000000  195766.000000  195766.000000   \n",
       "mean    31531.171393  150694.162480  250276.891610     125.205564   \n",
       "std     26891.176267   28738.898737   28699.036011      68.695434   \n",
       "min         3.000000  100009.000000  200003.000000       3.000000   \n",
       "25%     11554.000000  126256.000000  225796.000000      84.000000   \n",
       "50%     23210.000000  150624.000000  250436.000000     106.000000   \n",
       "75%     46411.000000  176126.000000  275324.000000     140.000000   \n",
       "max     99995.000000  199995.000000  299995.000000     691.000000   \n",
       "\n",
       "                spo2           fio2             hr           temp  \\\n",
       "count  193788.000000  179758.000000  194527.000000  185786.000000   \n",
       "mean       97.024466      54.466941      88.946707      37.104551   \n",
       "std         4.134335      18.264322      17.665136       0.914936   \n",
       "min         0.500000      20.999999      12.000000      22.000000   \n",
       "25%        96.000000      40.000001      77.000000      36.555556   \n",
       "50%        98.000000      50.000000      88.000000      37.111113   \n",
       "75%       100.000000      60.000000     100.000000      37.700001   \n",
       "max       100.000000     100.000000     285.000000      42.777802   \n",
       "\n",
       "               nbps          nbpd      ...             gcsmotor  \\\n",
       "count  53028.000000  52880.000000      ...        177518.000000   \n",
       "mean     114.889328     56.734607      ...             4.257399   \n",
       "std       23.726985     15.292901      ...             2.028651   \n",
       "min        0.200000     10.000000      ...             1.000000   \n",
       "25%       98.000000     46.000000      ...             1.000000   \n",
       "50%      112.000000     55.000000      ...             5.000000   \n",
       "75%      130.000000     65.000000      ...             6.000000   \n",
       "max      263.000000    200.000000      ...             6.000000   \n",
       "\n",
       "           gcsverbal        gcseyes            age   height_first  \\\n",
       "count  177428.000000  177724.000000  195766.000000  154892.000000   \n",
       "mean        3.155483       2.586674      67.948925     169.589837   \n",
       "std         1.550719       1.237336      37.258348      17.268233   \n",
       "min         1.000000       1.000000      16.474200       5.080000   \n",
       "25%         1.000000       1.000000      53.275200     162.560000   \n",
       "50%         4.000000       3.000000      66.043200     170.180000   \n",
       "75%         4.000000       4.000000      76.535700     177.800000   \n",
       "max         5.000000       4.000000     301.076100     454.660000   \n",
       "\n",
       "          height_min     height_max   weight_first     weight_min  \\\n",
       "count  154892.000000  154892.000000  194803.000000  194803.000000   \n",
       "mean      169.572955     170.131169      86.673485      84.131689   \n",
       "std        17.272872      15.195771      27.000886      25.619175   \n",
       "min         5.080000       5.080000      20.500000       0.600000   \n",
       "25%       162.560000     162.560000      70.000000      67.650000   \n",
       "50%       170.180000     170.180000      82.000000      80.000000   \n",
       "75%       177.800000     177.800000      99.000000      96.200000   \n",
       "max       454.660000     454.660000     472.000000     296.800000   \n",
       "\n",
       "          weight_max  \n",
       "count  194803.000000  \n",
       "mean       94.860322  \n",
       "std        30.113277  \n",
       "min        20.500000  \n",
       "25%        75.500000  \n",
       "50%        90.400000  \n",
       "75%       107.000000  \n",
       "max       472.000000  \n",
       "\n",
       "[8 rows x 31 columns]"
      ]
     },
     "execution_count": 4,
     "metadata": {},
     "output_type": "execute_result"
    }
   ],
   "source": [
    "#观察数据的最大值、最小值、平均值、中位数等，可以看出是否存在异常值\n",
    "data.describe()"
   ]
  },
  {
   "cell_type": "markdown",
   "metadata": {},
   "source": [
    "pao2：最小值是3<br>\n",
    "SpO2：最小值0.5 大部分集中在98%<br>\n",
    "FiO2：不存在异常值，最小值约21%，<br>\n",
    "心率：应该没有异常值<br>\n",
    "体温：<br>\n",
    "升高：最小值只有5，这应该是一个记录错误的数据，即使儿童也不会存在这么小的身高<br>\n",
    "体重：也存在部分异常值，大部分数据分布式正常的<br>\n",
    "中间还有一些变量没有去看，应该还有不少异常值需要处理"
   ]
  },
  {
   "cell_type": "code",
   "execution_count": 6,
   "metadata": {},
   "outputs": [
    {
     "name": "stdout",
     "output_type": "stream",
     "text": [
      "<class 'pandas.core.frame.DataFrame'>\n",
      "RangeIndex: 195766 entries, 0 to 195765\n",
      "Data columns (total 38 columns):\n",
      "subject_id        195766 non-null int64\n",
      "hadm_id           195766 non-null int64\n",
      "icustay_id        195766 non-null int64\n",
      "charttime         195766 non-null datetime64[ns]\n",
      "pao2              195766 non-null float64\n",
      "spo2              193788 non-null float64\n",
      "fio2              179758 non-null float64\n",
      "hr                194527 non-null float64\n",
      "temp              185786 non-null float64\n",
      "nbps              53028 non-null float64\n",
      "nbpd              52880 non-null float64\n",
      "nbpm              52727 non-null float64\n",
      "abps              186230 non-null float64\n",
      "abpd              186230 non-null float64\n",
      "abpm              188677 non-null float64\n",
      "rr                194409 non-null float64\n",
      "tv                142728 non-null float64\n",
      "pip               140032 non-null float64\n",
      "plap              105177 non-null float64\n",
      "mv                173426 non-null float64\n",
      "map               170363 non-null float64\n",
      "peep              167844 non-null float64\n",
      "gcsmotor          177518 non-null float64\n",
      "gcsverbal         177428 non-null float64\n",
      "gcseyes           177724 non-null float64\n",
      "first_careunit    195766 non-null object\n",
      "last_careunit     195766 non-null object\n",
      "dbsource          195766 non-null object\n",
      "age               195766 non-null float64\n",
      "ethnicity         195766 non-null object\n",
      "admission_type    195766 non-null object\n",
      "gender            195766 non-null object\n",
      "height_first      154892 non-null float64\n",
      "height_min        154892 non-null float64\n",
      "height_max        154892 non-null float64\n",
      "weight_first      194803 non-null float64\n",
      "weight_min        194803 non-null float64\n",
      "weight_max        194803 non-null float64\n",
      "dtypes: datetime64[ns](1), float64(28), int64(3), object(6)\n",
      "memory usage: 56.8+ MB\n"
     ]
    }
   ],
   "source": [
    "data.info()"
   ]
  },
  {
   "cell_type": "markdown",
   "metadata": {},
   "source": [
    "通过以上的分析，可以绘制一张关于缺失比例的图，来直观的观察数据缺失的情况。"
   ]
  },
  {
   "cell_type": "code",
   "execution_count": 19,
   "metadata": {},
   "outputs": [
    {
     "data": {
      "text/plain": [
       "<matplotlib.axes._subplots.AxesSubplot at 0x23bcdb1f630>"
      ]
     },
     "execution_count": 19,
     "metadata": {},
     "output_type": "execute_result"
    },
    {
     "data": {
      "image/png": "[encoded data removed]",
      "text/plain": [
       "<matplotlib.figure.Figure at 0x23bcdb1e9b0>"
      ]
     },
     "metadata": {},
     "output_type": "display_data"
    }
   ],
   "source": [
    "isnan=data.isnull().sum()\n",
    "notnan=data.notnull().sum()\n",
    "value=pd.DataFrame({\"无缺失\":notnan,\"缺失\":isnan})\n",
    "value.plot(kind='bar',stacked=True)"
   ]
  },
  {
   "cell_type": "code",
   "execution_count": null,
   "metadata": {
    "collapsed": true
   },
   "outputs": [],
   "source": []
  },
  {
   "cell_type": "markdown",
   "metadata": {
    "collapsed": true
   },
   "source": [
    "缺失数据的整体分布情况，观察是否存在异常值"
   ]
  },
  {
   "cell_type": "code",
   "execution_count": 41,
   "metadata": {},
   "outputs": [
    {
     "data": {
      "text/plain": [
       "<matplotlib.axes._subplots.AxesSubplot at 0x23c1cc683c8>"
      ]
     },
     "execution_count": 41,
     "metadata": {},
     "output_type": "execute_result"
    },
    {
     "data": {
      "image/png": "[encoded data removed]",
      "text/plain": [
       "<matplotlib.figure.Figure at 0x23c1d420208>"
      ]
     },
     "metadata": {},
     "output_type": "display_data"
    }
   ],
   "source": [
    "plt.subplot2grid((1,2),(0,0))\n",
    "plt.scatter(range(len(data)),data['pao2'])\n",
    "plt.subplot2grid((1,2),(0,1))\n",
    "data.pao2.plot(kind='box')"
   ]
  },
  {
   "cell_type": "code",
   "execution_count": 42,
   "metadata": {},
   "outputs": [
    {
     "data": {
      "text/plain": [
       "<matplotlib.axes._subplots.AxesSubplot at 0x23c1cfad668>"
      ]
     },
     "execution_count": 42,
     "metadata": {},
     "output_type": "execute_result"
    },
    {
     "data": {
      "image/png": "[encoded data removed]",
      "text/plain": [
       "<matplotlib.figure.Figure at 0x23c1d7d0f60>"
      ]
     },
     "metadata": {},
     "output_type": "display_data"
    }
   ],
   "source": [
    "plt.subplot2grid((1,2),(0,0))\n",
    "plt.scatter(range(len(data)),data['spo2'])\n",
    "plt.subplot2grid((1,2),(0,1))\n",
    "data['spo2'].plot.box()\n",
    "#spo2有很多异常值，但是这些值是否不合理，还需要讨论，"
   ]
  },
  {
   "cell_type": "code",
   "execution_count": 43,
   "metadata": {},
   "outputs": [
    {
     "data": {
      "text/plain": [
       "<matplotlib.axes._subplots.AxesSubplot at 0x23c1d01b588>"
      ]
     },
     "execution_count": 43,
     "metadata": {},
     "output_type": "execute_result"
    },
    {
     "data": {
      "image/png": "[encoded data removed]",
      "text/plain": [
       "<matplotlib.figure.Figure at 0x23c1dc077f0>"
      ]
     },
     "metadata": {},
     "output_type": "display_data"
    }
   ],
   "source": [
    "plt.subplot2grid((1,2),(0,0))\n",
    "plt.scatter(range(len(data)),data['fio2'])\n",
    "plt.subplot2grid((1,2),(0,1))\n",
    "data['fio2'].plot.box()\n",
    "#这个参数没有异常值，比较好"
   ]
  },
  {
   "cell_type": "code",
   "execution_count": 44,
   "metadata": {},
   "outputs": [
    {
     "data": {
      "text/plain": [
       "<matplotlib.axes._subplots.AxesSubplot at 0x23c1d0d0860>"
      ]
     },
     "execution_count": 44,
     "metadata": {},
     "output_type": "execute_result"
    },
    {
     "data": {
      "image/png": "[encoded data removed]",
      "text/plain": [
       "<matplotlib.figure.Figure at 0x23c1dfccac8>"
      ]
     },
     "metadata": {},
     "output_type": "display_data"
    }
   ],
   "source": [
    "plt.subplot2grid((1,2),(0,0))\n",
    "plt.scatter(range(len(data)),data['hr'])\n",
    "plt.subplot2grid((1,2),(0,1))\n",
    "data['hr'].plot.box()\n",
    "#心率超过200 ，感觉有点问题"
   ]
  },
  {
   "cell_type": "code",
   "execution_count": 45,
   "metadata": {},
   "outputs": [
    {
     "data": {
      "text/plain": [
       "<matplotlib.axes._subplots.AxesSubplot at 0x23c1e259240>"
      ]
     },
     "execution_count": 45,
     "metadata": {},
     "output_type": "execute_result"
    },
    {
     "data": {
      "image/png": "[encoded data removed]",
      "text/plain": [
       "<matplotlib.figure.Figure at 0x23c15be6c50>"
      ]
     },
     "metadata": {},
     "output_type": "display_data"
    }
   ],
   "source": [
    "plt.subplot2grid((1,2),(0,0))\n",
    "plt.scatter(range(len(data)),data['temp'])\n",
    "plt.subplot2grid((1,2),(0,1))\n",
    "data['temp'].plot.box()\n",
    "#体温低于30度，是什么情况，难道这个人凉了"
   ]
  },
  {
   "cell_type": "code",
   "execution_count": 46,
   "metadata": {},
   "outputs": [
    {
     "data": {
      "text/plain": [
       "<matplotlib.axes._subplots.AxesSubplot at 0x23c1d24e550>"
      ]
     },
     "execution_count": 46,
     "metadata": {},
     "output_type": "execute_result"
    },
    {
     "data": {
      "image/png": "[encoded data removed]",
      "text/plain": [
       "<matplotlib.figure.Figure at 0x23c1cbee6d8>"
      ]
     },
     "metadata": {},
     "output_type": "display_data"
    }
   ],
   "source": [
    "plt.subplot2grid((1,2),(0,0))\n",
    "plt.scatter(range(len(data)),data['nbps'])\n",
    "plt.subplot2grid((1,2),(0,1))\n",
    "data['nbps'].plot.box()"
   ]
  },
  {
   "cell_type": "code",
   "execution_count": 47,
   "metadata": {},
   "outputs": [
    {
     "data": {
      "text/plain": [
       "<matplotlib.axes._subplots.AxesSubplot at 0x23c1d30b860>"
      ]
     },
     "execution_count": 47,
     "metadata": {},
     "output_type": "execute_result"
    },
    {
     "data": {
      "image/png": "[encoded data removed]",
      "text/plain": [
       "<matplotlib.figure.Figure at 0x23c15c223c8>"
      ]
     },
     "metadata": {},
     "output_type": "display_data"
    }
   ],
   "source": [
    "plt.subplot2grid((1,2),(0,0))\n",
    "plt.scatter(range(len(data)),data['nbpm'])\n",
    "plt.subplot2grid((1,2),(0,1))\n",
    "data['nbpm'].plot.box()"
   ]
  },
  {
   "cell_type": "code",
   "execution_count": 48,
   "metadata": {},
   "outputs": [
    {
     "data": {
      "text/plain": [
       "<matplotlib.axes._subplots.AxesSubplot at 0x23c1daec278>"
      ]
     },
     "execution_count": 48,
     "metadata": {},
     "output_type": "execute_result"
    },
    {
     "data": {
      "image/png": "[encoded data removed]",
      "text/plain": [
       "<matplotlib.figure.Figure at 0x23c1e95ea20>"
      ]
     },
     "metadata": {},
     "output_type": "display_data"
    }
   ],
   "source": [
    "plt.subplot2grid((1,2),(0,0))\n",
    "plt.scatter(range(len(data)),data['nbpd'])\n",
    "plt.subplot2grid((1,2),(0,1))\n",
    "data['nbpd'].plot.box()\n",
    "#部分舒张压太高了，达到了200"
   ]
  },
  {
   "cell_type": "code",
   "execution_count": 49,
   "metadata": {},
   "outputs": [
    {
     "data": {
      "text/plain": [
       "<matplotlib.axes._subplots.AxesSubplot at 0x23c1fa050f0>"
      ]
     },
     "execution_count": 49,
     "metadata": {},
     "output_type": "execute_result"
    },
    {
     "data": {
      "image/png": "[encoded data removed]",
      "text/plain": [
       "<matplotlib.figure.Figure at 0x23c15c1aa20>"
      ]
     },
     "metadata": {},
     "output_type": "display_data"
    }
   ],
   "source": [
    "plt.subplot2grid((1,2),(0,0))\n",
    "plt.scatter(range(len(data)),data['abps'])\n",
    "plt.subplot2grid((1,2),(0,1))\n",
    "data['abps'].plot.box()"
   ]
  },
  {
   "cell_type": "code",
   "execution_count": 50,
   "metadata": {},
   "outputs": [
    {
     "data": {
      "text/plain": [
       "<matplotlib.axes._subplots.AxesSubplot at 0x23c1df4c390>"
      ]
     },
     "execution_count": 50,
     "metadata": {},
     "output_type": "execute_result"
    },
    {
     "data": {
      "image/png": "[encoded data removed]",
      "text/plain": [
       "<matplotlib.figure.Figure at 0x23c1db40ef0>"
      ]
     },
     "metadata": {},
     "output_type": "display_data"
    }
   ],
   "source": [
    "plt.subplot2grid((1,2),(0,0))\n",
    "plt.scatter(range(len(data)),data['abpm'])\n",
    "plt.subplot2grid((1,2),(0,1))\n",
    "data['abpm'].plot.box()"
   ]
  },
  {
   "cell_type": "code",
   "execution_count": 65,
   "metadata": {},
   "outputs": [
    {
     "data": {
      "text/plain": [
       "43"
      ]
     },
     "execution_count": 65,
     "metadata": {},
     "output_type": "execute_result"
    }
   ],
   "source": [
    "#有66个样本，无创收缩压<无创平均压，肯定是异常值\n",
    "temp=data['nbps']<data['nbpm']\n",
    "temp.sum()"
   ]
  },
  {
   "cell_type": "code",
   "execution_count": 66,
   "metadata": {},
   "outputs": [
    {
     "data": {
      "text/plain": [
       "145"
      ]
     },
     "execution_count": 66,
     "metadata": {},
     "output_type": "execute_result"
    }
   ],
   "source": [
    "#有226个样本，无创舒张压>无创平均压，肯定是异常值\n",
    "temp=data['nbpd']>data['nbpm']\n",
    "temp.sum()"
   ]
  },
  {
   "cell_type": "code",
   "execution_count": 67,
   "metadata": {},
   "outputs": [
    {
     "data": {
      "text/plain": [
       "1282"
      ]
     },
     "execution_count": 67,
     "metadata": {},
     "output_type": "execute_result"
    }
   ],
   "source": [
    "#有1336个样本，有创收缩压<有创平均压，肯定是异常值\n",
    "temp=data['abps']<data['abpm']\n",
    "temp.sum()"
   ]
  },
  {
   "cell_type": "code",
   "execution_count": 68,
   "metadata": {},
   "outputs": [
    {
     "data": {
      "text/plain": [
       "608"
      ]
     },
     "execution_count": 68,
     "metadata": {},
     "output_type": "execute_result"
    }
   ],
   "source": [
    "#有811个样本，有创舒张压>有创平均压，肯定是异常值\n",
    "temp=data['abpd']>data['abpm']\n",
    "temp.sum()"
   ]
  },
  {
   "cell_type": "code",
   "execution_count": 61,
   "metadata": {
    "collapsed": true
   },
   "outputs": [
    {
     "data": {
      "text/html": [
       "<div>\n",
       "<style>\n",
       "    .dataframe thead tr:only-child th {\n",
       "        text-align: right;\n",
       "    }\n",
       "\n",
       "    .dataframe thead th {\n",
       "        text-align: left;\n",
       "    }\n",
       "\n",
       "    .dataframe tbody tr th {\n",
       "        vertical-align: top;\n",
       "    }\n",
       "</style>\n",
       "<table border=\"1\" class=\"dataframe\">\n",
       "  <thead>\n",
       "    <tr style=\"text-align: right;\">\n",
       "      <th></th>\n",
       "      <th>nbps</th>\n",
       "      <th>nbpm</th>\n",
       "      <th>nbpd</th>\n",
       "      <th>abps</th>\n",
       "      <th>abpm</th>\n",
       "      <th>abpd</th>\n",
       "    </tr>\n",
       "  </thead>\n",
       "  <tbody>\n",
       "    <tr>\n",
       "      <th>155</th>\n",
       "      <td>86.0</td>\n",
       "      <td>51.333302</td>\n",
       "      <td>34.0</td>\n",
       "      <td>92.0</td>\n",
       "      <td>62.0</td>\n",
       "      <td>67.0</td>\n",
       "    </tr>\n",
       "    <tr>\n",
       "      <th>292</th>\n",
       "      <td>102.0</td>\n",
       "      <td>53.333302</td>\n",
       "      <td>29.0</td>\n",
       "      <td>220.0</td>\n",
       "      <td>53.0</td>\n",
       "      <td>115.0</td>\n",
       "    </tr>\n",
       "    <tr>\n",
       "      <th>342</th>\n",
       "      <td>NaN</td>\n",
       "      <td>NaN</td>\n",
       "      <td>NaN</td>\n",
       "      <td>114.0</td>\n",
       "      <td>37.0</td>\n",
       "      <td>55.0</td>\n",
       "    </tr>\n",
       "    <tr>\n",
       "      <th>356</th>\n",
       "      <td>NaN</td>\n",
       "      <td>NaN</td>\n",
       "      <td>NaN</td>\n",
       "      <td>97.0</td>\n",
       "      <td>60.0</td>\n",
       "      <td>63.0</td>\n",
       "    </tr>\n",
       "    <tr>\n",
       "      <th>1018</th>\n",
       "      <td>NaN</td>\n",
       "      <td>NaN</td>\n",
       "      <td>NaN</td>\n",
       "      <td>167.0</td>\n",
       "      <td>29.0</td>\n",
       "      <td>55.0</td>\n",
       "    </tr>\n",
       "    <tr>\n",
       "      <th>1363</th>\n",
       "      <td>NaN</td>\n",
       "      <td>NaN</td>\n",
       "      <td>NaN</td>\n",
       "      <td>134.0</td>\n",
       "      <td>80.0</td>\n",
       "      <td>84.0</td>\n",
       "    </tr>\n",
       "    <tr>\n",
       "      <th>1445</th>\n",
       "      <td>NaN</td>\n",
       "      <td>NaN</td>\n",
       "      <td>NaN</td>\n",
       "      <td>142.0</td>\n",
       "      <td>58.0</td>\n",
       "      <td>75.0</td>\n",
       "    </tr>\n",
       "    <tr>\n",
       "      <th>1455</th>\n",
       "      <td>106.0</td>\n",
       "      <td>66.666702</td>\n",
       "      <td>47.0</td>\n",
       "      <td>96.0</td>\n",
       "      <td>27.0</td>\n",
       "      <td>67.0</td>\n",
       "    </tr>\n",
       "    <tr>\n",
       "      <th>1632</th>\n",
       "      <td>140.0</td>\n",
       "      <td>87.333298</td>\n",
       "      <td>61.0</td>\n",
       "      <td>112.0</td>\n",
       "      <td>40.0</td>\n",
       "      <td>66.0</td>\n",
       "    </tr>\n",
       "    <tr>\n",
       "      <th>1714</th>\n",
       "      <td>NaN</td>\n",
       "      <td>NaN</td>\n",
       "      <td>NaN</td>\n",
       "      <td>128.0</td>\n",
       "      <td>81.0</td>\n",
       "      <td>98.0</td>\n",
       "    </tr>\n",
       "    <tr>\n",
       "      <th>2339</th>\n",
       "      <td>NaN</td>\n",
       "      <td>NaN</td>\n",
       "      <td>NaN</td>\n",
       "      <td>112.0</td>\n",
       "      <td>55.0</td>\n",
       "      <td>59.0</td>\n",
       "    </tr>\n",
       "    <tr>\n",
       "      <th>2425</th>\n",
       "      <td>NaN</td>\n",
       "      <td>NaN</td>\n",
       "      <td>NaN</td>\n",
       "      <td>106.0</td>\n",
       "      <td>66.0</td>\n",
       "      <td>68.0</td>\n",
       "    </tr>\n",
       "    <tr>\n",
       "      <th>2979</th>\n",
       "      <td>NaN</td>\n",
       "      <td>NaN</td>\n",
       "      <td>NaN</td>\n",
       "      <td>119.0</td>\n",
       "      <td>38.0</td>\n",
       "      <td>66.0</td>\n",
       "    </tr>\n",
       "    <tr>\n",
       "      <th>3103</th>\n",
       "      <td>135.0</td>\n",
       "      <td>99.000000</td>\n",
       "      <td>81.0</td>\n",
       "      <td>126.0</td>\n",
       "      <td>65.0</td>\n",
       "      <td>66.0</td>\n",
       "    </tr>\n",
       "    <tr>\n",
       "      <th>3153</th>\n",
       "      <td>NaN</td>\n",
       "      <td>NaN</td>\n",
       "      <td>NaN</td>\n",
       "      <td>102.0</td>\n",
       "      <td>77.0</td>\n",
       "      <td>82.0</td>\n",
       "    </tr>\n",
       "    <tr>\n",
       "      <th>3423</th>\n",
       "      <td>NaN</td>\n",
       "      <td>NaN</td>\n",
       "      <td>NaN</td>\n",
       "      <td>86.0</td>\n",
       "      <td>52.0</td>\n",
       "      <td>57.0</td>\n",
       "    </tr>\n",
       "    <tr>\n",
       "      <th>3662</th>\n",
       "      <td>73.0</td>\n",
       "      <td>47.666698</td>\n",
       "      <td>35.0</td>\n",
       "      <td>114.0</td>\n",
       "      <td>15.0</td>\n",
       "      <td>61.0</td>\n",
       "    </tr>\n",
       "    <tr>\n",
       "      <th>3663</th>\n",
       "      <td>82.0</td>\n",
       "      <td>54.666698</td>\n",
       "      <td>41.0</td>\n",
       "      <td>114.0</td>\n",
       "      <td>16.0</td>\n",
       "      <td>61.0</td>\n",
       "    </tr>\n",
       "    <tr>\n",
       "      <th>3806</th>\n",
       "      <td>NaN</td>\n",
       "      <td>NaN</td>\n",
       "      <td>NaN</td>\n",
       "      <td>139.0</td>\n",
       "      <td>40.0</td>\n",
       "      <td>54.0</td>\n",
       "    </tr>\n",
       "    <tr>\n",
       "      <th>4404</th>\n",
       "      <td>NaN</td>\n",
       "      <td>NaN</td>\n",
       "      <td>NaN</td>\n",
       "      <td>105.0</td>\n",
       "      <td>54.0</td>\n",
       "      <td>57.0</td>\n",
       "    </tr>\n",
       "    <tr>\n",
       "      <th>4790</th>\n",
       "      <td>123.0</td>\n",
       "      <td>84.333298</td>\n",
       "      <td>65.0</td>\n",
       "      <td>109.0</td>\n",
       "      <td>60.0</td>\n",
       "      <td>65.0</td>\n",
       "    </tr>\n",
       "    <tr>\n",
       "      <th>4834</th>\n",
       "      <td>116.0</td>\n",
       "      <td>89.000000</td>\n",
       "      <td>73.0</td>\n",
       "      <td>116.0</td>\n",
       "      <td>71.0</td>\n",
       "      <td>74.0</td>\n",
       "    </tr>\n",
       "    <tr>\n",
       "      <th>5266</th>\n",
       "      <td>141.0</td>\n",
       "      <td>80.333298</td>\n",
       "      <td>50.0</td>\n",
       "      <td>181.0</td>\n",
       "      <td>22.0</td>\n",
       "      <td>59.0</td>\n",
       "    </tr>\n",
       "    <tr>\n",
       "      <th>5617</th>\n",
       "      <td>120.0</td>\n",
       "      <td>69.333298</td>\n",
       "      <td>44.0</td>\n",
       "      <td>138.0</td>\n",
       "      <td>48.0</td>\n",
       "      <td>59.0</td>\n",
       "    </tr>\n",
       "    <tr>\n",
       "      <th>5933</th>\n",
       "      <td>NaN</td>\n",
       "      <td>NaN</td>\n",
       "      <td>NaN</td>\n",
       "      <td>65.0</td>\n",
       "      <td>49.0</td>\n",
       "      <td>50.0</td>\n",
       "    </tr>\n",
       "    <tr>\n",
       "      <th>6003</th>\n",
       "      <td>67.0</td>\n",
       "      <td>39.000000</td>\n",
       "      <td>25.0</td>\n",
       "      <td>130.0</td>\n",
       "      <td>29.0</td>\n",
       "      <td>40.0</td>\n",
       "    </tr>\n",
       "    <tr>\n",
       "      <th>6036</th>\n",
       "      <td>150.0</td>\n",
       "      <td>96.666702</td>\n",
       "      <td>70.0</td>\n",
       "      <td>173.0</td>\n",
       "      <td>14.0</td>\n",
       "      <td>97.0</td>\n",
       "    </tr>\n",
       "    <tr>\n",
       "      <th>6192</th>\n",
       "      <td>NaN</td>\n",
       "      <td>NaN</td>\n",
       "      <td>NaN</td>\n",
       "      <td>157.0</td>\n",
       "      <td>19.0</td>\n",
       "      <td>77.0</td>\n",
       "    </tr>\n",
       "    <tr>\n",
       "      <th>6450</th>\n",
       "      <td>145.0</td>\n",
       "      <td>83.666702</td>\n",
       "      <td>53.0</td>\n",
       "      <td>243.0</td>\n",
       "      <td>226.0</td>\n",
       "      <td>239.0</td>\n",
       "    </tr>\n",
       "    <tr>\n",
       "      <th>6686</th>\n",
       "      <td>136.0</td>\n",
       "      <td>74.000000</td>\n",
       "      <td>43.0</td>\n",
       "      <td>155.0</td>\n",
       "      <td>143.0</td>\n",
       "      <td>151.0</td>\n",
       "    </tr>\n",
       "    <tr>\n",
       "      <th>...</th>\n",
       "      <td>...</td>\n",
       "      <td>...</td>\n",
       "      <td>...</td>\n",
       "      <td>...</td>\n",
       "      <td>...</td>\n",
       "      <td>...</td>\n",
       "    </tr>\n",
       "    <tr>\n",
       "      <th>186672</th>\n",
       "      <td>NaN</td>\n",
       "      <td>NaN</td>\n",
       "      <td>NaN</td>\n",
       "      <td>143.0</td>\n",
       "      <td>54.0</td>\n",
       "      <td>61.0</td>\n",
       "    </tr>\n",
       "    <tr>\n",
       "      <th>187104</th>\n",
       "      <td>NaN</td>\n",
       "      <td>NaN</td>\n",
       "      <td>NaN</td>\n",
       "      <td>112.0</td>\n",
       "      <td>48.0</td>\n",
       "      <td>55.0</td>\n",
       "    </tr>\n",
       "    <tr>\n",
       "      <th>187200</th>\n",
       "      <td>103.0</td>\n",
       "      <td>69.666702</td>\n",
       "      <td>53.0</td>\n",
       "      <td>114.0</td>\n",
       "      <td>59.0</td>\n",
       "      <td>63.0</td>\n",
       "    </tr>\n",
       "    <tr>\n",
       "      <th>188201</th>\n",
       "      <td>NaN</td>\n",
       "      <td>NaN</td>\n",
       "      <td>NaN</td>\n",
       "      <td>127.0</td>\n",
       "      <td>53.0</td>\n",
       "      <td>58.0</td>\n",
       "    </tr>\n",
       "    <tr>\n",
       "      <th>188627</th>\n",
       "      <td>NaN</td>\n",
       "      <td>NaN</td>\n",
       "      <td>NaN</td>\n",
       "      <td>97.0</td>\n",
       "      <td>58.0</td>\n",
       "      <td>60.0</td>\n",
       "    </tr>\n",
       "    <tr>\n",
       "      <th>188654</th>\n",
       "      <td>106.0</td>\n",
       "      <td>86.000000</td>\n",
       "      <td>76.0</td>\n",
       "      <td>110.0</td>\n",
       "      <td>69.0</td>\n",
       "      <td>76.0</td>\n",
       "    </tr>\n",
       "    <tr>\n",
       "      <th>189088</th>\n",
       "      <td>NaN</td>\n",
       "      <td>NaN</td>\n",
       "      <td>NaN</td>\n",
       "      <td>100.0</td>\n",
       "      <td>49.0</td>\n",
       "      <td>61.0</td>\n",
       "    </tr>\n",
       "    <tr>\n",
       "      <th>189179</th>\n",
       "      <td>139.0</td>\n",
       "      <td>87.000000</td>\n",
       "      <td>61.0</td>\n",
       "      <td>105.0</td>\n",
       "      <td>33.0</td>\n",
       "      <td>40.0</td>\n",
       "    </tr>\n",
       "    <tr>\n",
       "      <th>189342</th>\n",
       "      <td>104.0</td>\n",
       "      <td>59.000000</td>\n",
       "      <td>47.0</td>\n",
       "      <td>107.0</td>\n",
       "      <td>44.0</td>\n",
       "      <td>49.0</td>\n",
       "    </tr>\n",
       "    <tr>\n",
       "      <th>189448</th>\n",
       "      <td>113.0</td>\n",
       "      <td>71.666702</td>\n",
       "      <td>51.0</td>\n",
       "      <td>124.0</td>\n",
       "      <td>23.0</td>\n",
       "      <td>52.0</td>\n",
       "    </tr>\n",
       "    <tr>\n",
       "      <th>189668</th>\n",
       "      <td>210.0</td>\n",
       "      <td>117.333000</td>\n",
       "      <td>71.0</td>\n",
       "      <td>245.0</td>\n",
       "      <td>108.0</td>\n",
       "      <td>194.0</td>\n",
       "    </tr>\n",
       "    <tr>\n",
       "      <th>189769</th>\n",
       "      <td>47.0</td>\n",
       "      <td>38.000000</td>\n",
       "      <td>35.0</td>\n",
       "      <td>69.0</td>\n",
       "      <td>40.0</td>\n",
       "      <td>47.0</td>\n",
       "    </tr>\n",
       "    <tr>\n",
       "      <th>191128</th>\n",
       "      <td>129.0</td>\n",
       "      <td>89.000000</td>\n",
       "      <td>68.0</td>\n",
       "      <td>108.0</td>\n",
       "      <td>63.0</td>\n",
       "      <td>71.0</td>\n",
       "    </tr>\n",
       "    <tr>\n",
       "      <th>191167</th>\n",
       "      <td>124.0</td>\n",
       "      <td>84.000000</td>\n",
       "      <td>72.0</td>\n",
       "      <td>151.0</td>\n",
       "      <td>1.0</td>\n",
       "      <td>73.0</td>\n",
       "    </tr>\n",
       "    <tr>\n",
       "      <th>191252</th>\n",
       "      <td>97.0</td>\n",
       "      <td>71.000000</td>\n",
       "      <td>64.0</td>\n",
       "      <td>92.0</td>\n",
       "      <td>5.0</td>\n",
       "      <td>76.0</td>\n",
       "    </tr>\n",
       "    <tr>\n",
       "      <th>191253</th>\n",
       "      <td>105.0</td>\n",
       "      <td>78.000000</td>\n",
       "      <td>69.0</td>\n",
       "      <td>92.0</td>\n",
       "      <td>5.0</td>\n",
       "      <td>76.0</td>\n",
       "    </tr>\n",
       "    <tr>\n",
       "      <th>191516</th>\n",
       "      <td>112.0</td>\n",
       "      <td>NaN</td>\n",
       "      <td>NaN</td>\n",
       "      <td>125.0</td>\n",
       "      <td>56.0</td>\n",
       "      <td>64.0</td>\n",
       "    </tr>\n",
       "    <tr>\n",
       "      <th>192027</th>\n",
       "      <td>112.0</td>\n",
       "      <td>79.000000</td>\n",
       "      <td>70.0</td>\n",
       "      <td>112.0</td>\n",
       "      <td>56.0</td>\n",
       "      <td>64.0</td>\n",
       "    </tr>\n",
       "    <tr>\n",
       "      <th>192428</th>\n",
       "      <td>NaN</td>\n",
       "      <td>NaN</td>\n",
       "      <td>NaN</td>\n",
       "      <td>113.0</td>\n",
       "      <td>25.0</td>\n",
       "      <td>69.0</td>\n",
       "    </tr>\n",
       "    <tr>\n",
       "      <th>192904</th>\n",
       "      <td>78.0</td>\n",
       "      <td>48.000000</td>\n",
       "      <td>41.0</td>\n",
       "      <td>135.0</td>\n",
       "      <td>46.0</td>\n",
       "      <td>78.0</td>\n",
       "    </tr>\n",
       "    <tr>\n",
       "      <th>193047</th>\n",
       "      <td>77.0</td>\n",
       "      <td>59.000000</td>\n",
       "      <td>54.0</td>\n",
       "      <td>109.0</td>\n",
       "      <td>68.0</td>\n",
       "      <td>71.0</td>\n",
       "    </tr>\n",
       "    <tr>\n",
       "      <th>193445</th>\n",
       "      <td>NaN</td>\n",
       "      <td>NaN</td>\n",
       "      <td>NaN</td>\n",
       "      <td>165.0</td>\n",
       "      <td>67.0</td>\n",
       "      <td>89.0</td>\n",
       "    </tr>\n",
       "    <tr>\n",
       "      <th>193520</th>\n",
       "      <td>119.0</td>\n",
       "      <td>86.000000</td>\n",
       "      <td>73.0</td>\n",
       "      <td>136.0</td>\n",
       "      <td>58.0</td>\n",
       "      <td>68.0</td>\n",
       "    </tr>\n",
       "    <tr>\n",
       "      <th>193601</th>\n",
       "      <td>131.0</td>\n",
       "      <td>99.000000</td>\n",
       "      <td>89.0</td>\n",
       "      <td>140.0</td>\n",
       "      <td>8.0</td>\n",
       "      <td>88.0</td>\n",
       "    </tr>\n",
       "    <tr>\n",
       "      <th>193602</th>\n",
       "      <td>123.0</td>\n",
       "      <td>98.000000</td>\n",
       "      <td>89.0</td>\n",
       "      <td>140.0</td>\n",
       "      <td>8.0</td>\n",
       "      <td>88.0</td>\n",
       "    </tr>\n",
       "    <tr>\n",
       "      <th>194080</th>\n",
       "      <td>NaN</td>\n",
       "      <td>NaN</td>\n",
       "      <td>NaN</td>\n",
       "      <td>156.0</td>\n",
       "      <td>1.0</td>\n",
       "      <td>73.0</td>\n",
       "    </tr>\n",
       "    <tr>\n",
       "      <th>194514</th>\n",
       "      <td>140.0</td>\n",
       "      <td>67.000000</td>\n",
       "      <td>43.0</td>\n",
       "      <td>148.0</td>\n",
       "      <td>34.0</td>\n",
       "      <td>65.0</td>\n",
       "    </tr>\n",
       "    <tr>\n",
       "      <th>194534</th>\n",
       "      <td>120.0</td>\n",
       "      <td>82.000000</td>\n",
       "      <td>70.0</td>\n",
       "      <td>149.0</td>\n",
       "      <td>63.0</td>\n",
       "      <td>82.0</td>\n",
       "    </tr>\n",
       "    <tr>\n",
       "      <th>195201</th>\n",
       "      <td>99.0</td>\n",
       "      <td>47.000000</td>\n",
       "      <td>29.0</td>\n",
       "      <td>68.0</td>\n",
       "      <td>52.0</td>\n",
       "      <td>63.0</td>\n",
       "    </tr>\n",
       "    <tr>\n",
       "      <th>195721</th>\n",
       "      <td>NaN</td>\n",
       "      <td>NaN</td>\n",
       "      <td>NaN</td>\n",
       "      <td>127.0</td>\n",
       "      <td>12.0</td>\n",
       "      <td>61.0</td>\n",
       "    </tr>\n",
       "  </tbody>\n",
       "</table>\n",
       "<p>811 rows × 6 columns</p>\n",
       "</div>"
      ],
      "text/plain": [
       "         nbps        nbpm  nbpd   abps   abpm   abpd\n",
       "155      86.0   51.333302  34.0   92.0   62.0   67.0\n",
       "292     102.0   53.333302  29.0  220.0   53.0  115.0\n",
       "342       NaN         NaN   NaN  114.0   37.0   55.0\n",
       "356       NaN         NaN   NaN   97.0   60.0   63.0\n",
       "1018      NaN         NaN   NaN  167.0   29.0   55.0\n",
       "1363      NaN         NaN   NaN  134.0   80.0   84.0\n",
       "1445      NaN         NaN   NaN  142.0   58.0   75.0\n",
       "1455    106.0   66.666702  47.0   96.0   27.0   67.0\n",
       "1632    140.0   87.333298  61.0  112.0   40.0   66.0\n",
       "1714      NaN         NaN   NaN  128.0   81.0   98.0\n",
       "2339      NaN         NaN   NaN  112.0   55.0   59.0\n",
       "2425      NaN         NaN   NaN  106.0   66.0   68.0\n",
       "2979      NaN         NaN   NaN  119.0   38.0   66.0\n",
       "3103    135.0   99.000000  81.0  126.0   65.0   66.0\n",
       "3153      NaN         NaN   NaN  102.0   77.0   82.0\n",
       "3423      NaN         NaN   NaN   86.0   52.0   57.0\n",
       "3662     73.0   47.666698  35.0  114.0   15.0   61.0\n",
       "3663     82.0   54.666698  41.0  114.0   16.0   61.0\n",
       "3806      NaN         NaN   NaN  139.0   40.0   54.0\n",
       "4404      NaN         NaN   NaN  105.0   54.0   57.0\n",
       "4790    123.0   84.333298  65.0  109.0   60.0   65.0\n",
       "4834    116.0   89.000000  73.0  116.0   71.0   74.0\n",
       "5266    141.0   80.333298  50.0  181.0   22.0   59.0\n",
       "5617    120.0   69.333298  44.0  138.0   48.0   59.0\n",
       "5933      NaN         NaN   NaN   65.0   49.0   50.0\n",
       "6003     67.0   39.000000  25.0  130.0   29.0   40.0\n",
       "6036    150.0   96.666702  70.0  173.0   14.0   97.0\n",
       "6192      NaN         NaN   NaN  157.0   19.0   77.0\n",
       "6450    145.0   83.666702  53.0  243.0  226.0  239.0\n",
       "6686    136.0   74.000000  43.0  155.0  143.0  151.0\n",
       "...       ...         ...   ...    ...    ...    ...\n",
       "186672    NaN         NaN   NaN  143.0   54.0   61.0\n",
       "187104    NaN         NaN   NaN  112.0   48.0   55.0\n",
       "187200  103.0   69.666702  53.0  114.0   59.0   63.0\n",
       "188201    NaN         NaN   NaN  127.0   53.0   58.0\n",
       "188627    NaN         NaN   NaN   97.0   58.0   60.0\n",
       "188654  106.0   86.000000  76.0  110.0   69.0   76.0\n",
       "189088    NaN         NaN   NaN  100.0   49.0   61.0\n",
       "189179  139.0   87.000000  61.0  105.0   33.0   40.0\n",
       "189342  104.0   59.000000  47.0  107.0   44.0   49.0\n",
       "189448  113.0   71.666702  51.0  124.0   23.0   52.0\n",
       "189668  210.0  117.333000  71.0  245.0  108.0  194.0\n",
       "189769   47.0   38.000000  35.0   69.0   40.0   47.0\n",
       "191128  129.0   89.000000  68.0  108.0   63.0   71.0\n",
       "191167  124.0   84.000000  72.0  151.0    1.0   73.0\n",
       "191252   97.0   71.000000  64.0   92.0    5.0   76.0\n",
       "191253  105.0   78.000000  69.0   92.0    5.0   76.0\n",
       "191516  112.0         NaN   NaN  125.0   56.0   64.0\n",
       "192027  112.0   79.000000  70.0  112.0   56.0   64.0\n",
       "192428    NaN         NaN   NaN  113.0   25.0   69.0\n",
       "192904   78.0   48.000000  41.0  135.0   46.0   78.0\n",
       "193047   77.0   59.000000  54.0  109.0   68.0   71.0\n",
       "193445    NaN         NaN   NaN  165.0   67.0   89.0\n",
       "193520  119.0   86.000000  73.0  136.0   58.0   68.0\n",
       "193601  131.0   99.000000  89.0  140.0    8.0   88.0\n",
       "193602  123.0   98.000000  89.0  140.0    8.0   88.0\n",
       "194080    NaN         NaN   NaN  156.0    1.0   73.0\n",
       "194514  140.0   67.000000  43.0  148.0   34.0   65.0\n",
       "194534  120.0   82.000000  70.0  149.0   63.0   82.0\n",
       "195201   99.0   47.000000  29.0   68.0   52.0   63.0\n",
       "195721    NaN         NaN   NaN  127.0   12.0   61.0\n",
       "\n",
       "[811 rows x 6 columns]"
      ]
     },
     "execution_count": 61,
     "metadata": {},
     "output_type": "execute_result"
    }
   ],
   "source": [
    "data.loc[temp,['nbps','nbpm','nbpd','abps','abpm','abpd']]\n",
    "#通过对数据观察，我觉得有可能是在数据匹配过程中出现的问题，\n",
    "#有可能当血压缺失时，我会寻找前6小时的数据，这样并不能代表患者的真实情况，\n",
    "#所以4-6小时这个时间段有可能还是会带来很多噪声，我应该适当减小这个数值"
   ]
  },
  {
   "cell_type": "markdown",
   "metadata": {},
   "source": [
    "考虑到匹配血压的过程使用的是某一个时间点前后6小时的数据，觉得不合理，改为前4个小时，发现异常数据有所减少，要想完全避免，只能是时间点完全吻合"
   ]
  },
  {
   "cell_type": "code",
   "execution_count": 69,
   "metadata": {},
   "outputs": [
    {
     "data": {
      "text/plain": [
       "<matplotlib.axes._subplots.AxesSubplot at 0x23c3078a908>"
      ]
     },
     "execution_count": 69,
     "metadata": {},
     "output_type": "execute_result"
    },
    {
     "data": {
      "image/png": "[encoded data removed]",
      "text/plain": [
       "<matplotlib.figure.Figure at 0x23c1e074f98>"
      ]
     },
     "metadata": {},
     "output_type": "display_data"
    }
   ],
   "source": [
    "plt.subplot2grid((1,2),(0,0))\n",
    "plt.scatter(range(len(data)),data['abpd'])\n",
    "plt.subplot2grid((1,2),(0,1))\n",
    "data['abpd'].plot.box()"
   ]
  },
  {
   "cell_type": "code",
   "execution_count": 77,
   "metadata": {},
   "outputs": [
    {
     "data": {
      "text/plain": [
       "array(['subject_id', 'hadm_id', 'icustay_id', 'charttime', 'pao2', 'spo2',\n",
       "       'fio2', 'hr', 'temp', 'nbps', 'nbpd', 'nbpm', 'abps', 'abpd',\n",
       "       'abpm', 'rr', 'tv', 'pip', 'plap', 'mv', 'map', 'peep', 'gcsmotor',\n",
       "       'gcsverbal', 'gcseyes', 'first_careunit', 'last_careunit',\n",
       "       'dbsource', 'age', 'ethnicity', 'admission_type', 'gender',\n",
       "       'height_first', 'height_min', 'height_max', 'weight_first',\n",
       "       'weight_min', 'weight_max'], dtype=object)"
      ]
     },
     "execution_count": 77,
     "metadata": {},
     "output_type": "execute_result"
    }
   ],
   "source": [
    "data.columns.values"
   ]
  },
  {
   "cell_type": "code",
   "execution_count": 78,
   "metadata": {},
   "outputs": [
    {
     "data": {
      "text/plain": [
       "<matplotlib.axes._subplots.AxesSubplot at 0x23c2d1390f0>"
      ]
     },
     "execution_count": 78,
     "metadata": {},
     "output_type": "execute_result"
    },
    {
     "data": {
      "image/png": "[encoded data removed]",
      "text/plain": [
       "<matplotlib.figure.Figure at 0x23c2c047860>"
      ]
     },
     "metadata": {},
     "output_type": "display_data"
    }
   ],
   "source": [
    "plt.subplot2grid((1,2),(0,0))\n",
    "plt.scatter(range(len(data)),data['rr'])\n",
    "plt.subplot2grid((1,2),(0,1))\n",
    "data['rr'].plot.box()\n",
    "#呼吸频率中这么多的0 ，到底是怎么回事，这数据质量真的是堪忧啊\n"
   ]
  },
  {
   "cell_type": "code",
   "execution_count": 86,
   "metadata": {},
   "outputs": [
    {
     "data": {
      "text/plain": [
       "count    194409.000000\n",
       "mean         20.546251\n",
       "std           6.867790\n",
       "min           0.000000\n",
       "25%          16.000000\n",
       "50%          20.000000\n",
       "75%          25.000000\n",
       "max          68.000000\n",
       "Name: rr, dtype: float64"
      ]
     },
     "execution_count": 86,
     "metadata": {},
     "output_type": "execute_result"
    }
   ],
   "source": [
    "data['rr'].describe()"
   ]
  },
  {
   "cell_type": "code",
   "execution_count": 113,
   "metadata": {
    "collapsed": true
   },
   "outputs": [],
   "source": [
    "temp=data.rr.value_counts()"
   ]
  },
  {
   "cell_type": "code",
   "execution_count": 115,
   "metadata": {},
   "outputs": [
    {
     "data": {
      "text/plain": [
       "array([ 20.  ,  18.  ,  16.  ,  14.  ,  22.  ,  24.  ,  12.  ,  19.  ,\n",
       "        21.  ,  17.  ,  26.  ,  23.  ,  15.  ,  25.  ,  28.  ,  30.  ,\n",
       "        27.  ,  10.  ,  13.  ,  29.  ,  32.  ,  11.  ,  31.  ,  34.  ,\n",
       "        33.  ,  35.  ,   0.  ,  36.  ,   8.  ,   9.  ,  38.  ,  37.  ,\n",
       "        40.  ,   7.  ,  39.  ,   6.  ,  42.  ,  41.  ,   5.  ,  43.  ,\n",
       "        44.  ,   4.  ,  45.  ,  46.  ,  48.  ,  47.  ,   3.  ,  50.  ,\n",
       "        49.  ,  51.  ,  55.  ,   2.  ,  53.  ,  52.  ,  54.  ,  56.  ,\n",
       "         1.  ,  58.  ,  59.  ,  60.  ,  66.  ,  57.  ,  63.  ,  62.  ,\n",
       "        61.  ,  65.  ,  64.  ,  67.  ,  68.  ,   0.17])"
      ]
     },
     "execution_count": 115,
     "metadata": {},
     "output_type": "execute_result"
    }
   ],
   "source": [
    "temp.index.values"
   ]
  },
  {
   "cell_type": "code",
   "execution_count": 117,
   "metadata": {},
   "outputs": [
    {
     "data": {
      "text/plain": [
       "<Container object of 70 artists>"
      ]
     },
     "execution_count": 117,
     "metadata": {},
     "output_type": "execute_result"
    },
    {
     "data": {
      "image/png": "[encoded data removed]",
      "text/plain": [
       "<matplotlib.figure.Figure at 0x23c1df70588>"
      ]
     },
     "metadata": {},
     "output_type": "display_data"
    }
   ],
   "source": [
    "plt.bar(temp.index.values,list(temp))\n",
    "#可以看出呼吸频率的一个分布情况，有不小的比例的rr=0，这部分数据如何处理还需要进一步讨论"
   ]
  },
  {
   "cell_type": "code",
   "execution_count": 118,
   "metadata": {},
   "outputs": [
    {
     "data": {
      "text/plain": [
       "<matplotlib.axes._subplots.AxesSubplot at 0x23c2dc4a2b0>"
      ]
     },
     "execution_count": 118,
     "metadata": {},
     "output_type": "execute_result"
    },
    {
     "data": {
      "image/png": "[encoded data removed]",
      "text/plain": [
       "<matplotlib.figure.Figure at 0x23c2c60db70>"
      ]
     },
     "metadata": {},
     "output_type": "display_data"
    }
   ],
   "source": [
    "plt.subplot2grid((1,2),(0,0))\n",
    "plt.scatter(range(len(data)),data['tv'])\n",
    "plt.subplot2grid((1,2),(0,1))\n",
    "data['tv'].plot.box()\n",
    "#这里的潮气量是总的潮气量，与rr运算后可得到一般的，但是运算还是要注意，防止与rr=0进行除法运算\n",
    "#整体分布正常，有个别异常点，"
   ]
  },
  {
   "cell_type": "code",
   "execution_count": 127,
   "metadata": {},
   "outputs": [
    {
     "data": {
      "text/html": [
       "<div>\n",
       "<style>\n",
       "    .dataframe thead tr:only-child th {\n",
       "        text-align: right;\n",
       "    }\n",
       "\n",
       "    .dataframe thead th {\n",
       "        text-align: left;\n",
       "    }\n",
       "\n",
       "    .dataframe tbody tr th {\n",
       "        vertical-align: top;\n",
       "    }\n",
       "</style>\n",
       "<table border=\"1\" class=\"dataframe\">\n",
       "  <thead>\n",
       "    <tr style=\"text-align: right;\">\n",
       "      <th></th>\n",
       "      <th>icustay_id</th>\n",
       "      <th>tv</th>\n",
       "      <th>mv</th>\n",
       "      <th>weight_first</th>\n",
       "      <th>rr</th>\n",
       "    </tr>\n",
       "  </thead>\n",
       "  <tbody>\n",
       "    <tr>\n",
       "      <th>194343</th>\n",
       "      <td>270587</td>\n",
       "      <td>1700.0</td>\n",
       "      <td>12.6</td>\n",
       "      <td>109.0</td>\n",
       "      <td>17.0</td>\n",
       "    </tr>\n",
       "  </tbody>\n",
       "</table>\n",
       "</div>"
      ],
      "text/plain": [
       "        icustay_id      tv    mv  weight_first    rr\n",
       "194343      270587  1700.0  12.6         109.0  17.0"
      ]
     },
     "execution_count": 127,
     "metadata": {},
     "output_type": "execute_result"
    }
   ],
   "source": [
    "data.loc[data['tv']>1500,['icustay_id','tv','mv','weight_first','rr']]"
   ]
  },
  {
   "cell_type": "markdown",
   "metadata": {},
   "source": [
    "这个人的的tv还是有点异常，通过tv和rr计算的mv=28左右，而实际mv只有12.6，正常tv应该在700-800左右，所以这样的点该如何处理"
   ]
  },
  {
   "cell_type": "code",
   "execution_count": 128,
   "metadata": {},
   "outputs": [
    {
     "data": {
      "text/html": [
       "<div>\n",
       "<style>\n",
       "    .dataframe thead tr:only-child th {\n",
       "        text-align: right;\n",
       "    }\n",
       "\n",
       "    .dataframe thead th {\n",
       "        text-align: left;\n",
       "    }\n",
       "\n",
       "    .dataframe tbody tr th {\n",
       "        vertical-align: top;\n",
       "    }\n",
       "</style>\n",
       "<table border=\"1\" class=\"dataframe\">\n",
       "  <thead>\n",
       "    <tr style=\"text-align: right;\">\n",
       "      <th></th>\n",
       "      <th>tv</th>\n",
       "      <th>mv</th>\n",
       "      <th>weight_first</th>\n",
       "      <th>rr</th>\n",
       "    </tr>\n",
       "  </thead>\n",
       "  <tbody>\n",
       "    <tr>\n",
       "      <th>194343</th>\n",
       "      <td>1700.0</td>\n",
       "      <td>12.6</td>\n",
       "      <td>109.0</td>\n",
       "      <td>17.0</td>\n",
       "    </tr>\n",
       "    <tr>\n",
       "      <th>194344</th>\n",
       "      <td>562.0</td>\n",
       "      <td>10.3</td>\n",
       "      <td>109.0</td>\n",
       "      <td>10.0</td>\n",
       "    </tr>\n",
       "    <tr>\n",
       "      <th>194345</th>\n",
       "      <td>514.0</td>\n",
       "      <td>9.2</td>\n",
       "      <td>109.0</td>\n",
       "      <td>9.0</td>\n",
       "    </tr>\n",
       "    <tr>\n",
       "      <th>194346</th>\n",
       "      <td>513.0</td>\n",
       "      <td>10.9</td>\n",
       "      <td>109.0</td>\n",
       "      <td>17.0</td>\n",
       "    </tr>\n",
       "    <tr>\n",
       "      <th>194347</th>\n",
       "      <td>622.0</td>\n",
       "      <td>10.4</td>\n",
       "      <td>109.0</td>\n",
       "      <td>18.0</td>\n",
       "    </tr>\n",
       "    <tr>\n",
       "      <th>194348</th>\n",
       "      <td>622.0</td>\n",
       "      <td>10.4</td>\n",
       "      <td>109.0</td>\n",
       "      <td>22.0</td>\n",
       "    </tr>\n",
       "    <tr>\n",
       "      <th>194349</th>\n",
       "      <td>633.0</td>\n",
       "      <td>13.6</td>\n",
       "      <td>109.0</td>\n",
       "      <td>22.0</td>\n",
       "    </tr>\n",
       "    <tr>\n",
       "      <th>194350</th>\n",
       "      <td>684.0</td>\n",
       "      <td>14.4</td>\n",
       "      <td>109.0</td>\n",
       "      <td>22.0</td>\n",
       "    </tr>\n",
       "    <tr>\n",
       "      <th>194351</th>\n",
       "      <td>684.0</td>\n",
       "      <td>14.4</td>\n",
       "      <td>109.0</td>\n",
       "      <td>22.0</td>\n",
       "    </tr>\n",
       "  </tbody>\n",
       "</table>\n",
       "</div>"
      ],
      "text/plain": [
       "            tv    mv  weight_first    rr\n",
       "194343  1700.0  12.6         109.0  17.0\n",
       "194344   562.0  10.3         109.0  10.0\n",
       "194345   514.0   9.2         109.0   9.0\n",
       "194346   513.0  10.9         109.0  17.0\n",
       "194347   622.0  10.4         109.0  18.0\n",
       "194348   622.0  10.4         109.0  22.0\n",
       "194349   633.0  13.6         109.0  22.0\n",
       "194350   684.0  14.4         109.0  22.0\n",
       "194351   684.0  14.4         109.0  22.0"
      ]
     },
     "execution_count": 128,
     "metadata": {},
     "output_type": "execute_result"
    }
   ],
   "source": [
    "data.loc[data['icustay_id']==270587,['tv','mv','weight_first','rr']]"
   ]
  },
  {
   "cell_type": "markdown",
   "metadata": {},
   "source": [
    "再一次确定了我们的猜想，这个的确是一个异常值"
   ]
  },
  {
   "cell_type": "code",
   "execution_count": 132,
   "metadata": {},
   "outputs": [
    {
     "data": {
      "text/plain": [
       "<matplotlib.axes._subplots.AxesSubplot at 0x23c309acc50>"
      ]
     },
     "execution_count": 132,
     "metadata": {},
     "output_type": "execute_result"
    },
    {
     "data": {
      "image/png": "[encoded data removed]",
      "text/plain": [
       "<matplotlib.figure.Figure at 0x23c3281deb8>"
      ]
     },
     "metadata": {},
     "output_type": "display_data"
    }
   ],
   "source": [
    "plt.subplot2grid((1,2),(0,0))\n",
    "plt.scatter(range(len(data)),data['mv'])\n",
    "plt.subplot2grid((1,2),(0,1))\n",
    "data['mv'].plot.box()"
   ]
  },
  {
   "cell_type": "code",
   "execution_count": 133,
   "metadata": {},
   "outputs": [
    {
     "data": {
      "text/plain": [
       "<Container object of 1830 artists>"
      ]
     },
     "execution_count": 133,
     "metadata": {},
     "output_type": "execute_result"
    },
    {
     "data": {
      "image/png": "[encoded data removed]",
      "text/plain": [
       "<matplotlib.figure.Figure at 0x23c2c11c940>"
      ]
     },
     "metadata": {},
     "output_type": "display_data"
    }
   ],
   "source": [
    "temp=data.mv.value_counts()\n",
    "temp.index.values\n",
    "plt.bar(temp.index.values,list(temp))"
   ]
  },
  {
   "cell_type": "code",
   "execution_count": 129,
   "metadata": {},
   "outputs": [
    {
     "data": {
      "text/plain": [
       "<matplotlib.axes._subplots.AxesSubplot at 0x23c307067b8>"
      ]
     },
     "execution_count": 129,
     "metadata": {},
     "output_type": "execute_result"
    },
    {
     "data": {
      "image/png": "[encoded data removed]",
      "text/plain": [
       "<matplotlib.figure.Figure at 0x23c306e4ac8>"
      ]
     },
     "metadata": {},
     "output_type": "display_data"
    }
   ],
   "source": [
    "plt.subplot2grid((1,2),(0,0))\n",
    "plt.scatter(range(len(data)),data['pip'])\n",
    "plt.subplot2grid((1,2),(0,1))\n",
    "data['pip'].plot.box()"
   ]
  },
  {
   "cell_type": "markdown",
   "metadata": {},
   "source": [
    "# 压力相关生理参数的分析\n",
    "1、 PIP 最大吸气压力"
   ]
  },
  {
   "cell_type": "code",
   "execution_count": 150,
   "metadata": {},
   "outputs": [
    {
     "data": {
      "text/plain": [
       "<matplotlib.axes._subplots.AxesSubplot at 0x23be916c358>"
      ]
     },
     "execution_count": 150,
     "metadata": {},
     "output_type": "execute_result"
    },
    {
     "data": {
      "image/png": "[encoded data removed]",
      "text/plain": [
       "<matplotlib.figure.Figure at 0x23be9195f98>"
      ]
     },
     "metadata": {},
     "output_type": "display_data"
    }
   ],
   "source": [
    "plt.subplot2grid((1,2),(0,0))\n",
    "plt.scatter(range(len(data)),data['pip'])\n",
    "plt.subplot2grid((1,2),(0,1))\n",
    "data['pip'].plot.box()"
   ]
  },
  {
   "cell_type": "code",
   "execution_count": 130,
   "metadata": {},
   "outputs": [
    {
     "data": {
      "text/plain": [
       "<Container object of 500 artists>"
      ]
     },
     "execution_count": 130,
     "metadata": {},
     "output_type": "execute_result"
    },
    {
     "data": {
      "image/png": "[encoded data removed]",
      "text/plain": [
       "<matplotlib.figure.Figure at 0x23c1d78ada0>"
      ]
     },
     "metadata": {},
     "output_type": "display_data"
    }
   ],
   "source": [
    "temp=data.pip.value_counts()\n",
    "temp.index.values\n",
    "plt.bar(temp.index.values,list(temp))"
   ]
  },
  {
   "cell_type": "code",
   "execution_count": 131,
   "metadata": {
    "collapsed": true
   },
   "outputs": [
    {
     "data": {
      "text/plain": [
       "28.000000    6920\n",
       "26.000000    6919\n",
       "25.000000    6912\n",
       "24.000000    6657\n",
       "27.000000    6450\n",
       "23.000000    6125\n",
       "21.000000    6015\n",
       "22.000000    5985\n",
       "30.000000    5910\n",
       "29.000000    5744\n",
       "32.000000    5160\n",
       "20.000000    5067\n",
       "31.000000    4952\n",
       "11.000000    4474\n",
       "33.000000    4182\n",
       "34.000000    3901\n",
       "35.000000    3614\n",
       "16.000000    3604\n",
       "19.000000    3521\n",
       "18.000000    3348\n",
       "36.000000    3150\n",
       "17.000000    2487\n",
       "37.000000    2447\n",
       "38.000000    2180\n",
       "15.000000    1968\n",
       "14.000000    1806\n",
       "40.000000    1737\n",
       "39.000000    1731\n",
       "41.000000    1205\n",
       "10.000000    1047\n",
       "             ... \n",
       "59.900002       1\n",
       "57.500000       1\n",
       "90.000000       1\n",
       "8.600000        1\n",
       "81.000000       1\n",
       "59.599998       1\n",
       "14.800000       1\n",
       "10.200000       1\n",
       "8.700000        1\n",
       "14.600000       1\n",
       "7.300000        1\n",
       "56.299999       1\n",
       "67.599998       1\n",
       "70.500000       1\n",
       "7.500000        1\n",
       "60.400002       1\n",
       "53.299999       1\n",
       "9.300000        1\n",
       "8.250000        1\n",
       "60.599998       1\n",
       "39.389999       1\n",
       "16.100000       1\n",
       "10.600000       1\n",
       "66.900002       1\n",
       "12.500000       1\n",
       "16.799999       1\n",
       "14.400000       1\n",
       "53.900002       1\n",
       "51.900002       1\n",
       "6.600000        1\n",
       "Name: pip, Length: 500, dtype: int64"
      ]
     },
     "execution_count": 131,
     "metadata": {},
     "output_type": "execute_result"
    }
   ],
   "source": [
    "temp\n",
    "#发现有一个比较突出的pip=11的情况，是的数据不符合正态分布，这也算是一个异常情况"
   ]
  },
  {
   "cell_type": "markdown",
   "metadata": {},
   "source": [
    "2、MAP气道平均压力的分析"
   ]
  },
  {
   "cell_type": "code",
   "execution_count": 151,
   "metadata": {},
   "outputs": [
    {
     "data": {
      "text/plain": [
       "<matplotlib.axes._subplots.AxesSubplot at 0x23be8e39908>"
      ]
     },
     "execution_count": 151,
     "metadata": {},
     "output_type": "execute_result"
    },
    {
     "data": {
      "image/png": "[encoded data removed]",
      "text/plain": [
       "<matplotlib.figure.Figure at 0x23be4827390>"
      ]
     },
     "metadata": {},
     "output_type": "display_data"
    }
   ],
   "source": [
    "plt.subplot2grid((1,2),(0,0))\n",
    "plt.scatter(range(len(data)),data['map'])\n",
    "plt.subplot2grid((1,2),(0,1))\n",
    "data['map'].plot.box()"
   ]
  },
  {
   "cell_type": "code",
   "execution_count": 136,
   "metadata": {},
   "outputs": [
    {
     "data": {
      "text/plain": [
       "<Container object of 400 artists>"
      ]
     },
     "execution_count": 136,
     "metadata": {},
     "output_type": "execute_result"
    },
    {
     "data": {
      "image/png": "[encoded data removed]",
      "text/plain": [
       "<matplotlib.figure.Figure at 0x23c3585f4e0>"
      ]
     },
     "metadata": {},
     "output_type": "display_data"
    }
   ],
   "source": [
    "temp=data.map.value_counts()\n",
    "temp.index.values\n",
    "plt.bar(temp.index.values,list(temp))"
   ]
  },
  {
   "cell_type": "markdown",
   "metadata": {},
   "source": [
    "3、plap 平台压力分析"
   ]
  },
  {
   "cell_type": "code",
   "execution_count": 153,
   "metadata": {},
   "outputs": [
    {
     "data": {
      "text/plain": [
       "<matplotlib.axes._subplots.AxesSubplot at 0x23be7102c50>"
      ]
     },
     "execution_count": 153,
     "metadata": {},
     "output_type": "execute_result"
    },
    {
     "data": {
      "image/png": "[encoded data removed]",
      "text/plain": [
       "<matplotlib.figure.Figure at 0x23be8945320>"
      ]
     },
     "metadata": {},
     "output_type": "display_data"
    }
   ],
   "source": [
    "plt.subplot2grid((1,2),(0,0))\n",
    "plt.scatter(range(len(data)),data['plap'])\n",
    "plt.subplot2grid((1,2),(0,1))\n",
    "data['plap'].plot.box()"
   ]
  },
  {
   "cell_type": "code",
   "execution_count": 154,
   "metadata": {},
   "outputs": [
    {
     "data": {
      "text/plain": [
       "<Container object of 420 artists>"
      ]
     },
     "execution_count": 154,
     "metadata": {},
     "output_type": "execute_result"
    },
    {
     "data": {
      "image/png": "[encoded data removed]",
      "text/plain": [
       "<matplotlib.figure.Figure at 0x23be6f97d68>"
      ]
     },
     "metadata": {},
     "output_type": "display_data"
    }
   ],
   "source": [
    "temp=data.plap.value_counts()\n",
    "temp.index.values\n",
    "plt.bar(temp.index.values,list(temp))"
   ]
  },
  {
   "cell_type": "markdown",
   "metadata": {},
   "source": [
    "4、 PEEP 分析"
   ]
  },
  {
   "cell_type": "code",
   "execution_count": 155,
   "metadata": {},
   "outputs": [
    {
     "data": {
      "text/plain": [
       "<matplotlib.axes._subplots.AxesSubplot at 0x23be927e1d0>"
      ]
     },
     "execution_count": 155,
     "metadata": {},
     "output_type": "execute_result"
    },
    {
     "data": {
      "image/png": "[encoded data removed]",
      "text/plain": [
       "<matplotlib.figure.Figure at 0x23be8c134e0>"
      ]
     },
     "metadata": {},
     "output_type": "display_data"
    }
   ],
   "source": [
    "plt.subplot2grid((1,2),(0,0))\n",
    "plt.scatter(range(len(data)),data['peep'])\n",
    "plt.subplot2grid((1,2),(0,1))\n",
    "data['peep'].plot.box()"
   ]
  },
  {
   "cell_type": "code",
   "execution_count": 156,
   "metadata": {},
   "outputs": [
    {
     "data": {
      "text/plain": [
       "<Container object of 126 artists>"
      ]
     },
     "execution_count": 156,
     "metadata": {},
     "output_type": "execute_result"
    },
    {
     "data": {
      "image/png": "[encoded data removed]",
      "text/plain": [
       "<matplotlib.figure.Figure at 0x23c1d2177f0>"
      ]
     },
     "metadata": {},
     "output_type": "display_data"
    }
   ],
   "source": [
    "temp=data.peep.value_counts()\n",
    "temp.index.values\n",
    "plt.bar(temp.index.values,list(temp))"
   ]
  },
  {
   "cell_type": "code",
   "execution_count": 158,
   "metadata": {
    "collapsed": true
   },
   "outputs": [
    {
     "data": {
      "text/html": [
       "<div>\n",
       "<style>\n",
       "    .dataframe thead tr:only-child th {\n",
       "        text-align: right;\n",
       "    }\n",
       "\n",
       "    .dataframe thead th {\n",
       "        text-align: left;\n",
       "    }\n",
       "\n",
       "    .dataframe tbody tr th {\n",
       "        vertical-align: top;\n",
       "    }\n",
       "</style>\n",
       "<table border=\"1\" class=\"dataframe\">\n",
       "  <thead>\n",
       "    <tr style=\"text-align: right;\">\n",
       "      <th></th>\n",
       "      <th>icustay_id</th>\n",
       "      <th>pip</th>\n",
       "      <th>plap</th>\n",
       "      <th>map</th>\n",
       "      <th>peep</th>\n",
       "    </tr>\n",
       "  </thead>\n",
       "  <tbody>\n",
       "    <tr>\n",
       "      <th>13388</th>\n",
       "      <td>248199</td>\n",
       "      <td>28.000000</td>\n",
       "      <td>30.000000</td>\n",
       "      <td>20.000000</td>\n",
       "      <td>50.0</td>\n",
       "    </tr>\n",
       "    <tr>\n",
       "      <th>14864</th>\n",
       "      <td>249957</td>\n",
       "      <td>55.000000</td>\n",
       "      <td>NaN</td>\n",
       "      <td>44.000000</td>\n",
       "      <td>32.0</td>\n",
       "    </tr>\n",
       "    <tr>\n",
       "      <th>14865</th>\n",
       "      <td>249957</td>\n",
       "      <td>55.000000</td>\n",
       "      <td>NaN</td>\n",
       "      <td>44.000000</td>\n",
       "      <td>32.0</td>\n",
       "    </tr>\n",
       "    <tr>\n",
       "      <th>63084</th>\n",
       "      <td>286981</td>\n",
       "      <td>67.000000</td>\n",
       "      <td>60.000000</td>\n",
       "      <td>46.000000</td>\n",
       "      <td>33.0</td>\n",
       "    </tr>\n",
       "    <tr>\n",
       "      <th>63085</th>\n",
       "      <td>286981</td>\n",
       "      <td>67.000000</td>\n",
       "      <td>NaN</td>\n",
       "      <td>45.000000</td>\n",
       "      <td>33.0</td>\n",
       "    </tr>\n",
       "    <tr>\n",
       "      <th>63086</th>\n",
       "      <td>286981</td>\n",
       "      <td>67.000000</td>\n",
       "      <td>NaN</td>\n",
       "      <td>45.000000</td>\n",
       "      <td>33.0</td>\n",
       "    </tr>\n",
       "    <tr>\n",
       "      <th>63087</th>\n",
       "      <td>286981</td>\n",
       "      <td>66.900002</td>\n",
       "      <td>NaN</td>\n",
       "      <td>45.599998</td>\n",
       "      <td>33.0</td>\n",
       "    </tr>\n",
       "    <tr>\n",
       "      <th>63088</th>\n",
       "      <td>286981</td>\n",
       "      <td>68.000000</td>\n",
       "      <td>NaN</td>\n",
       "      <td>46.000000</td>\n",
       "      <td>33.0</td>\n",
       "    </tr>\n",
       "    <tr>\n",
       "      <th>63089</th>\n",
       "      <td>286981</td>\n",
       "      <td>68.000000</td>\n",
       "      <td>62.000000</td>\n",
       "      <td>46.000000</td>\n",
       "      <td>33.0</td>\n",
       "    </tr>\n",
       "    <tr>\n",
       "      <th>63090</th>\n",
       "      <td>286981</td>\n",
       "      <td>68.000000</td>\n",
       "      <td>62.000000</td>\n",
       "      <td>44.000000</td>\n",
       "      <td>33.0</td>\n",
       "    </tr>\n",
       "    <tr>\n",
       "      <th>71908</th>\n",
       "      <td>247257</td>\n",
       "      <td>53.000000</td>\n",
       "      <td>47.000000</td>\n",
       "      <td>37.000000</td>\n",
       "      <td>32.0</td>\n",
       "    </tr>\n",
       "    <tr>\n",
       "      <th>71909</th>\n",
       "      <td>247257</td>\n",
       "      <td>64.000000</td>\n",
       "      <td>53.000000</td>\n",
       "      <td>41.000000</td>\n",
       "      <td>32.0</td>\n",
       "    </tr>\n",
       "    <tr>\n",
       "      <th>71910</th>\n",
       "      <td>247257</td>\n",
       "      <td>64.000000</td>\n",
       "      <td>53.000000</td>\n",
       "      <td>41.000000</td>\n",
       "      <td>32.0</td>\n",
       "    </tr>\n",
       "    <tr>\n",
       "      <th>71911</th>\n",
       "      <td>247257</td>\n",
       "      <td>64.000000</td>\n",
       "      <td>NaN</td>\n",
       "      <td>41.000000</td>\n",
       "      <td>32.0</td>\n",
       "    </tr>\n",
       "    <tr>\n",
       "      <th>77154</th>\n",
       "      <td>273910</td>\n",
       "      <td>32.000000</td>\n",
       "      <td>NaN</td>\n",
       "      <td>25.000000</td>\n",
       "      <td>32.0</td>\n",
       "    </tr>\n",
       "    <tr>\n",
       "      <th>77155</th>\n",
       "      <td>273910</td>\n",
       "      <td>32.000000</td>\n",
       "      <td>NaN</td>\n",
       "      <td>25.000000</td>\n",
       "      <td>32.0</td>\n",
       "    </tr>\n",
       "    <tr>\n",
       "      <th>79785</th>\n",
       "      <td>216570</td>\n",
       "      <td>43.000000</td>\n",
       "      <td>40.000000</td>\n",
       "      <td>32.000000</td>\n",
       "      <td>33.0</td>\n",
       "    </tr>\n",
       "    <tr>\n",
       "      <th>79786</th>\n",
       "      <td>216570</td>\n",
       "      <td>43.000000</td>\n",
       "      <td>40.000000</td>\n",
       "      <td>32.000000</td>\n",
       "      <td>33.0</td>\n",
       "    </tr>\n",
       "    <tr>\n",
       "      <th>87485</th>\n",
       "      <td>222444</td>\n",
       "      <td>50.000000</td>\n",
       "      <td>42.000000</td>\n",
       "      <td>32.000000</td>\n",
       "      <td>32.0</td>\n",
       "    </tr>\n",
       "    <tr>\n",
       "      <th>87486</th>\n",
       "      <td>222444</td>\n",
       "      <td>65.000000</td>\n",
       "      <td>62.000000</td>\n",
       "      <td>50.000000</td>\n",
       "      <td>32.0</td>\n",
       "    </tr>\n",
       "    <tr>\n",
       "      <th>87487</th>\n",
       "      <td>222444</td>\n",
       "      <td>65.000000</td>\n",
       "      <td>62.000000</td>\n",
       "      <td>50.000000</td>\n",
       "      <td>32.0</td>\n",
       "    </tr>\n",
       "    <tr>\n",
       "      <th>110653</th>\n",
       "      <td>205511</td>\n",
       "      <td>37.000000</td>\n",
       "      <td>NaN</td>\n",
       "      <td>NaN</td>\n",
       "      <td>38.0</td>\n",
       "    </tr>\n",
       "    <tr>\n",
       "      <th>110654</th>\n",
       "      <td>205511</td>\n",
       "      <td>41.000000</td>\n",
       "      <td>NaN</td>\n",
       "      <td>NaN</td>\n",
       "      <td>38.0</td>\n",
       "    </tr>\n",
       "    <tr>\n",
       "      <th>110655</th>\n",
       "      <td>205511</td>\n",
       "      <td>38.000000</td>\n",
       "      <td>NaN</td>\n",
       "      <td>NaN</td>\n",
       "      <td>38.0</td>\n",
       "    </tr>\n",
       "    <tr>\n",
       "      <th>110656</th>\n",
       "      <td>205511</td>\n",
       "      <td>38.000000</td>\n",
       "      <td>NaN</td>\n",
       "      <td>NaN</td>\n",
       "      <td>38.0</td>\n",
       "    </tr>\n",
       "    <tr>\n",
       "      <th>110657</th>\n",
       "      <td>205511</td>\n",
       "      <td>38.000000</td>\n",
       "      <td>NaN</td>\n",
       "      <td>NaN</td>\n",
       "      <td>38.0</td>\n",
       "    </tr>\n",
       "    <tr>\n",
       "      <th>111015</th>\n",
       "      <td>239319</td>\n",
       "      <td>36.000000</td>\n",
       "      <td>36.000000</td>\n",
       "      <td>24.000000</td>\n",
       "      <td>34.0</td>\n",
       "    </tr>\n",
       "    <tr>\n",
       "      <th>117009</th>\n",
       "      <td>240217</td>\n",
       "      <td>40.000000</td>\n",
       "      <td>NaN</td>\n",
       "      <td>36.000000</td>\n",
       "      <td>50.0</td>\n",
       "    </tr>\n",
       "    <tr>\n",
       "      <th>117010</th>\n",
       "      <td>240217</td>\n",
       "      <td>40.000000</td>\n",
       "      <td>NaN</td>\n",
       "      <td>36.000000</td>\n",
       "      <td>50.0</td>\n",
       "    </tr>\n",
       "    <tr>\n",
       "      <th>117011</th>\n",
       "      <td>240217</td>\n",
       "      <td>49.000000</td>\n",
       "      <td>NaN</td>\n",
       "      <td>42.000000</td>\n",
       "      <td>50.0</td>\n",
       "    </tr>\n",
       "    <tr>\n",
       "      <th>117012</th>\n",
       "      <td>240217</td>\n",
       "      <td>49.000000</td>\n",
       "      <td>NaN</td>\n",
       "      <td>42.000000</td>\n",
       "      <td>50.0</td>\n",
       "    </tr>\n",
       "    <tr>\n",
       "      <th>117013</th>\n",
       "      <td>240217</td>\n",
       "      <td>50.000000</td>\n",
       "      <td>NaN</td>\n",
       "      <td>43.000000</td>\n",
       "      <td>50.0</td>\n",
       "    </tr>\n",
       "    <tr>\n",
       "      <th>138608</th>\n",
       "      <td>254942</td>\n",
       "      <td>48.000000</td>\n",
       "      <td>44.000000</td>\n",
       "      <td>37.000000</td>\n",
       "      <td>32.0</td>\n",
       "    </tr>\n",
       "    <tr>\n",
       "      <th>138609</th>\n",
       "      <td>254942</td>\n",
       "      <td>48.000000</td>\n",
       "      <td>44.000000</td>\n",
       "      <td>37.000000</td>\n",
       "      <td>32.0</td>\n",
       "    </tr>\n",
       "    <tr>\n",
       "      <th>138610</th>\n",
       "      <td>254942</td>\n",
       "      <td>48.000000</td>\n",
       "      <td>44.000000</td>\n",
       "      <td>39.000000</td>\n",
       "      <td>32.0</td>\n",
       "    </tr>\n",
       "    <tr>\n",
       "      <th>138611</th>\n",
       "      <td>254942</td>\n",
       "      <td>47.000000</td>\n",
       "      <td>43.000000</td>\n",
       "      <td>37.000000</td>\n",
       "      <td>32.0</td>\n",
       "    </tr>\n",
       "    <tr>\n",
       "      <th>147206</th>\n",
       "      <td>293465</td>\n",
       "      <td>35.599998</td>\n",
       "      <td>35.599998</td>\n",
       "      <td>17.799999</td>\n",
       "      <td>50.0</td>\n",
       "    </tr>\n",
       "  </tbody>\n",
       "</table>\n",
       "</div>"
      ],
      "text/plain": [
       "        icustay_id        pip       plap        map  peep\n",
       "13388       248199  28.000000  30.000000  20.000000  50.0\n",
       "14864       249957  55.000000        NaN  44.000000  32.0\n",
       "14865       249957  55.000000        NaN  44.000000  32.0\n",
       "63084       286981  67.000000  60.000000  46.000000  33.0\n",
       "63085       286981  67.000000        NaN  45.000000  33.0\n",
       "63086       286981  67.000000        NaN  45.000000  33.0\n",
       "63087       286981  66.900002        NaN  45.599998  33.0\n",
       "63088       286981  68.000000        NaN  46.000000  33.0\n",
       "63089       286981  68.000000  62.000000  46.000000  33.0\n",
       "63090       286981  68.000000  62.000000  44.000000  33.0\n",
       "71908       247257  53.000000  47.000000  37.000000  32.0\n",
       "71909       247257  64.000000  53.000000  41.000000  32.0\n",
       "71910       247257  64.000000  53.000000  41.000000  32.0\n",
       "71911       247257  64.000000        NaN  41.000000  32.0\n",
       "77154       273910  32.000000        NaN  25.000000  32.0\n",
       "77155       273910  32.000000        NaN  25.000000  32.0\n",
       "79785       216570  43.000000  40.000000  32.000000  33.0\n",
       "79786       216570  43.000000  40.000000  32.000000  33.0\n",
       "87485       222444  50.000000  42.000000  32.000000  32.0\n",
       "87486       222444  65.000000  62.000000  50.000000  32.0\n",
       "87487       222444  65.000000  62.000000  50.000000  32.0\n",
       "110653      205511  37.000000        NaN        NaN  38.0\n",
       "110654      205511  41.000000        NaN        NaN  38.0\n",
       "110655      205511  38.000000        NaN        NaN  38.0\n",
       "110656      205511  38.000000        NaN        NaN  38.0\n",
       "110657      205511  38.000000        NaN        NaN  38.0\n",
       "111015      239319  36.000000  36.000000  24.000000  34.0\n",
       "117009      240217  40.000000        NaN  36.000000  50.0\n",
       "117010      240217  40.000000        NaN  36.000000  50.0\n",
       "117011      240217  49.000000        NaN  42.000000  50.0\n",
       "117012      240217  49.000000        NaN  42.000000  50.0\n",
       "117013      240217  50.000000        NaN  43.000000  50.0\n",
       "138608      254942  48.000000  44.000000  37.000000  32.0\n",
       "138609      254942  48.000000  44.000000  37.000000  32.0\n",
       "138610      254942  48.000000  44.000000  39.000000  32.0\n",
       "138611      254942  47.000000  43.000000  37.000000  32.0\n",
       "147206      293465  35.599998  35.599998  17.799999  50.0"
      ]
     },
     "execution_count": 158,
     "metadata": {},
     "output_type": "execute_result"
    }
   ],
   "source": [
    "data.loc[data['peep']>30,['icustay_id','pip','plap','map','peep']]"
   ]
  },
  {
   "cell_type": "markdown",
   "metadata": {},
   "source": [
    "这里我选出了一些异常的peep，通过这几个压力参数的分布及其实际意义，我们做了假设"
   ]
  },
  {
   "cell_type": "markdown",
   "metadata": {},
   "source": [
    "关于几个压力的关系：\n",
    "pip>plap>map>peep"
   ]
  },
  {
   "cell_type": "code",
   "execution_count": 140,
   "metadata": {},
   "outputs": [
    {
     "data": {
      "text/html": [
       "<div>\n",
       "<style>\n",
       "    .dataframe thead tr:only-child th {\n",
       "        text-align: right;\n",
       "    }\n",
       "\n",
       "    .dataframe thead th {\n",
       "        text-align: left;\n",
       "    }\n",
       "\n",
       "    .dataframe tbody tr th {\n",
       "        vertical-align: top;\n",
       "    }\n",
       "</style>\n",
       "<table border=\"1\" class=\"dataframe\">\n",
       "  <thead>\n",
       "    <tr style=\"text-align: right;\">\n",
       "      <th></th>\n",
       "      <th>pip</th>\n",
       "      <th>plap</th>\n",
       "      <th>map</th>\n",
       "      <th>peep</th>\n",
       "    </tr>\n",
       "  </thead>\n",
       "  <tbody>\n",
       "    <tr>\n",
       "      <th>0</th>\n",
       "      <td>35.0</td>\n",
       "      <td>20.0</td>\n",
       "      <td>15.0</td>\n",
       "      <td>10.0</td>\n",
       "    </tr>\n",
       "    <tr>\n",
       "      <th>1</th>\n",
       "      <td>37.0</td>\n",
       "      <td>25.0</td>\n",
       "      <td>16.0</td>\n",
       "      <td>10.0</td>\n",
       "    </tr>\n",
       "    <tr>\n",
       "      <th>2</th>\n",
       "      <td>36.0</td>\n",
       "      <td>30.0</td>\n",
       "      <td>17.0</td>\n",
       "      <td>10.0</td>\n",
       "    </tr>\n",
       "    <tr>\n",
       "      <th>3</th>\n",
       "      <td>35.0</td>\n",
       "      <td>26.0</td>\n",
       "      <td>17.0</td>\n",
       "      <td>10.0</td>\n",
       "    </tr>\n",
       "    <tr>\n",
       "      <th>4</th>\n",
       "      <td>35.0</td>\n",
       "      <td>26.0</td>\n",
       "      <td>17.0</td>\n",
       "      <td>10.0</td>\n",
       "    </tr>\n",
       "    <tr>\n",
       "      <th>5</th>\n",
       "      <td>34.0</td>\n",
       "      <td>24.0</td>\n",
       "      <td>15.0</td>\n",
       "      <td>10.0</td>\n",
       "    </tr>\n",
       "    <tr>\n",
       "      <th>6</th>\n",
       "      <td>34.0</td>\n",
       "      <td>24.0</td>\n",
       "      <td>15.0</td>\n",
       "      <td>10.0</td>\n",
       "    </tr>\n",
       "    <tr>\n",
       "      <th>7</th>\n",
       "      <td>35.0</td>\n",
       "      <td>25.0</td>\n",
       "      <td>15.0</td>\n",
       "      <td>NaN</td>\n",
       "    </tr>\n",
       "    <tr>\n",
       "      <th>8</th>\n",
       "      <td>35.0</td>\n",
       "      <td>25.0</td>\n",
       "      <td>15.0</td>\n",
       "      <td>NaN</td>\n",
       "    </tr>\n",
       "  </tbody>\n",
       "</table>\n",
       "</div>"
      ],
      "text/plain": [
       "    pip  plap   map  peep\n",
       "0  35.0  20.0  15.0  10.0\n",
       "1  37.0  25.0  16.0  10.0\n",
       "2  36.0  30.0  17.0  10.0\n",
       "3  35.0  26.0  17.0  10.0\n",
       "4  35.0  26.0  17.0  10.0\n",
       "5  34.0  24.0  15.0  10.0\n",
       "6  34.0  24.0  15.0  10.0\n",
       "7  35.0  25.0  15.0   NaN\n",
       "8  35.0  25.0  15.0   NaN"
      ]
     },
     "execution_count": 140,
     "metadata": {},
     "output_type": "execute_result"
    }
   ],
   "source": [
    "data.loc[:8,['pip','plap','map','peep']]\n",
    "#我的猜测是正确的，pip是气道峰压，应该是这几个压力值中，最高的\n",
    "#plap是气道平台压，map是气道平均压，peep应该是这里面最小的\n",
    "#pip>plap>map>peep"
   ]
  },
  {
   "cell_type": "markdown",
   "metadata": {},
   "source": [
    "我们计算四种压力的平均值，也可以看出，这种大小关系"
   ]
  },
  {
   "cell_type": "code",
   "execution_count": 161,
   "metadata": {},
   "outputs": [
    {
     "data": {
      "text/plain": [
       "26.8193048733762"
      ]
     },
     "execution_count": 161,
     "metadata": {},
     "output_type": "execute_result"
    }
   ],
   "source": [
    "data['pip'].mean()"
   ]
  },
  {
   "cell_type": "code",
   "execution_count": 162,
   "metadata": {},
   "outputs": [
    {
     "data": {
      "text/plain": [
       "23.151257023586798"
      ]
     },
     "execution_count": 162,
     "metadata": {},
     "output_type": "execute_result"
    }
   ],
   "source": [
    "data['plap'].mean()"
   ]
  },
  {
   "cell_type": "code",
   "execution_count": 163,
   "metadata": {},
   "outputs": [
    {
     "data": {
      "text/plain": [
       "12.367805509345413"
      ]
     },
     "execution_count": 163,
     "metadata": {},
     "output_type": "execute_result"
    }
   ],
   "source": [
    "data['map'].mean()"
   ]
  },
  {
   "cell_type": "code",
   "execution_count": 164,
   "metadata": {},
   "outputs": [
    {
     "data": {
      "text/plain": [
       "7.837410583588448"
      ]
     },
     "execution_count": 164,
     "metadata": {},
     "output_type": "execute_result"
    }
   ],
   "source": [
    "data['peep'].mean()"
   ]
  },
  {
   "cell_type": "markdown",
   "metadata": {},
   "source": [
    "我们可以利用这些约束关系来处理异常值"
   ]
  },
  {
   "cell_type": "code",
   "execution_count": 145,
   "metadata": {
    "collapsed": true
   },
   "outputs": [
    {
     "data": {
      "text/html": [
       "<div>\n",
       "<style>\n",
       "    .dataframe thead tr:only-child th {\n",
       "        text-align: right;\n",
       "    }\n",
       "\n",
       "    .dataframe thead th {\n",
       "        text-align: left;\n",
       "    }\n",
       "\n",
       "    .dataframe tbody tr th {\n",
       "        vertical-align: top;\n",
       "    }\n",
       "</style>\n",
       "<table border=\"1\" class=\"dataframe\">\n",
       "  <thead>\n",
       "    <tr style=\"text-align: right;\">\n",
       "      <th></th>\n",
       "      <th>icustay_id</th>\n",
       "      <th>pip</th>\n",
       "      <th>plap</th>\n",
       "      <th>map</th>\n",
       "      <th>peep</th>\n",
       "    </tr>\n",
       "  </thead>\n",
       "  <tbody>\n",
       "    <tr>\n",
       "      <th>2424</th>\n",
       "      <td>298056</td>\n",
       "      <td>7.50</td>\n",
       "      <td>NaN</td>\n",
       "      <td>15.6</td>\n",
       "      <td>12.7</td>\n",
       "    </tr>\n",
       "    <tr>\n",
       "      <th>3210</th>\n",
       "      <td>209498</td>\n",
       "      <td>34.00</td>\n",
       "      <td>21.0</td>\n",
       "      <td>55.0</td>\n",
       "      <td>5.0</td>\n",
       "    </tr>\n",
       "    <tr>\n",
       "      <th>8803</th>\n",
       "      <td>273137</td>\n",
       "      <td>7.00</td>\n",
       "      <td>NaN</td>\n",
       "      <td>8.0</td>\n",
       "      <td>5.0</td>\n",
       "    </tr>\n",
       "    <tr>\n",
       "      <th>8804</th>\n",
       "      <td>273137</td>\n",
       "      <td>7.00</td>\n",
       "      <td>NaN</td>\n",
       "      <td>8.0</td>\n",
       "      <td>5.0</td>\n",
       "    </tr>\n",
       "    <tr>\n",
       "      <th>9696</th>\n",
       "      <td>200286</td>\n",
       "      <td>6.00</td>\n",
       "      <td>NaN</td>\n",
       "      <td>7.0</td>\n",
       "      <td>5.0</td>\n",
       "    </tr>\n",
       "    <tr>\n",
       "      <th>9717</th>\n",
       "      <td>282701</td>\n",
       "      <td>22.00</td>\n",
       "      <td>35.0</td>\n",
       "      <td>24.0</td>\n",
       "      <td>20.0</td>\n",
       "    </tr>\n",
       "    <tr>\n",
       "      <th>10176</th>\n",
       "      <td>208409</td>\n",
       "      <td>14.00</td>\n",
       "      <td>21.0</td>\n",
       "      <td>18.0</td>\n",
       "      <td>8.0</td>\n",
       "    </tr>\n",
       "    <tr>\n",
       "      <th>10222</th>\n",
       "      <td>239032</td>\n",
       "      <td>11.00</td>\n",
       "      <td>NaN</td>\n",
       "      <td>13.0</td>\n",
       "      <td>10.0</td>\n",
       "    </tr>\n",
       "    <tr>\n",
       "      <th>10957</th>\n",
       "      <td>245121</td>\n",
       "      <td>3.00</td>\n",
       "      <td>NaN</td>\n",
       "      <td>6.0</td>\n",
       "      <td>5.0</td>\n",
       "    </tr>\n",
       "    <tr>\n",
       "      <th>12226</th>\n",
       "      <td>244922</td>\n",
       "      <td>2.10</td>\n",
       "      <td>NaN</td>\n",
       "      <td>8.2</td>\n",
       "      <td>5.0</td>\n",
       "    </tr>\n",
       "    <tr>\n",
       "      <th>12939</th>\n",
       "      <td>290843</td>\n",
       "      <td>6.90</td>\n",
       "      <td>NaN</td>\n",
       "      <td>12.2</td>\n",
       "      <td>9.8</td>\n",
       "    </tr>\n",
       "    <tr>\n",
       "      <th>14393</th>\n",
       "      <td>295908</td>\n",
       "      <td>2.00</td>\n",
       "      <td>NaN</td>\n",
       "      <td>15.0</td>\n",
       "      <td>10.0</td>\n",
       "    </tr>\n",
       "    <tr>\n",
       "      <th>17200</th>\n",
       "      <td>257665</td>\n",
       "      <td>15.60</td>\n",
       "      <td>24.0</td>\n",
       "      <td>15.9</td>\n",
       "      <td>5.0</td>\n",
       "    </tr>\n",
       "    <tr>\n",
       "      <th>18205</th>\n",
       "      <td>271067</td>\n",
       "      <td>24.00</td>\n",
       "      <td>23.0</td>\n",
       "      <td>48.0</td>\n",
       "      <td>15.0</td>\n",
       "    </tr>\n",
       "    <tr>\n",
       "      <th>18206</th>\n",
       "      <td>271067</td>\n",
       "      <td>24.00</td>\n",
       "      <td>19.0</td>\n",
       "      <td>48.0</td>\n",
       "      <td>15.0</td>\n",
       "    </tr>\n",
       "    <tr>\n",
       "      <th>18978</th>\n",
       "      <td>201005</td>\n",
       "      <td>15.00</td>\n",
       "      <td>20.0</td>\n",
       "      <td>17.0</td>\n",
       "      <td>8.0</td>\n",
       "    </tr>\n",
       "    <tr>\n",
       "      <th>18979</th>\n",
       "      <td>201005</td>\n",
       "      <td>15.00</td>\n",
       "      <td>20.0</td>\n",
       "      <td>17.0</td>\n",
       "      <td>10.0</td>\n",
       "    </tr>\n",
       "    <tr>\n",
       "      <th>21079</th>\n",
       "      <td>296321</td>\n",
       "      <td>1.00</td>\n",
       "      <td>NaN</td>\n",
       "      <td>20.0</td>\n",
       "      <td>NaN</td>\n",
       "    </tr>\n",
       "    <tr>\n",
       "      <th>21617</th>\n",
       "      <td>245545</td>\n",
       "      <td>2.00</td>\n",
       "      <td>NaN</td>\n",
       "      <td>6.0</td>\n",
       "      <td>5.0</td>\n",
       "    </tr>\n",
       "    <tr>\n",
       "      <th>21618</th>\n",
       "      <td>245545</td>\n",
       "      <td>2.00</td>\n",
       "      <td>NaN</td>\n",
       "      <td>6.0</td>\n",
       "      <td>5.0</td>\n",
       "    </tr>\n",
       "    <tr>\n",
       "      <th>23004</th>\n",
       "      <td>274877</td>\n",
       "      <td>16.00</td>\n",
       "      <td>26.0</td>\n",
       "      <td>19.0</td>\n",
       "      <td>NaN</td>\n",
       "    </tr>\n",
       "    <tr>\n",
       "      <th>23493</th>\n",
       "      <td>283895</td>\n",
       "      <td>7.20</td>\n",
       "      <td>19.0</td>\n",
       "      <td>8.0</td>\n",
       "      <td>5.0</td>\n",
       "    </tr>\n",
       "    <tr>\n",
       "      <th>23494</th>\n",
       "      <td>283895</td>\n",
       "      <td>7.20</td>\n",
       "      <td>19.0</td>\n",
       "      <td>8.0</td>\n",
       "      <td>5.0</td>\n",
       "    </tr>\n",
       "    <tr>\n",
       "      <th>23686</th>\n",
       "      <td>279373</td>\n",
       "      <td>11.00</td>\n",
       "      <td>23.0</td>\n",
       "      <td>18.0</td>\n",
       "      <td>5.0</td>\n",
       "    </tr>\n",
       "    <tr>\n",
       "      <th>27547</th>\n",
       "      <td>237080</td>\n",
       "      <td>10.20</td>\n",
       "      <td>23.0</td>\n",
       "      <td>11.0</td>\n",
       "      <td>8.0</td>\n",
       "    </tr>\n",
       "    <tr>\n",
       "      <th>29094</th>\n",
       "      <td>227999</td>\n",
       "      <td>36.00</td>\n",
       "      <td>30.0</td>\n",
       "      <td>37.0</td>\n",
       "      <td>12.0</td>\n",
       "    </tr>\n",
       "    <tr>\n",
       "      <th>29095</th>\n",
       "      <td>227999</td>\n",
       "      <td>36.00</td>\n",
       "      <td>30.0</td>\n",
       "      <td>37.0</td>\n",
       "      <td>12.0</td>\n",
       "    </tr>\n",
       "    <tr>\n",
       "      <th>29184</th>\n",
       "      <td>230135</td>\n",
       "      <td>9.00</td>\n",
       "      <td>25.0</td>\n",
       "      <td>14.0</td>\n",
       "      <td>10.0</td>\n",
       "    </tr>\n",
       "    <tr>\n",
       "      <th>31207</th>\n",
       "      <td>214485</td>\n",
       "      <td>3.00</td>\n",
       "      <td>NaN</td>\n",
       "      <td>8.0</td>\n",
       "      <td>5.0</td>\n",
       "    </tr>\n",
       "    <tr>\n",
       "      <th>31208</th>\n",
       "      <td>214485</td>\n",
       "      <td>3.00</td>\n",
       "      <td>NaN</td>\n",
       "      <td>8.0</td>\n",
       "      <td>5.0</td>\n",
       "    </tr>\n",
       "    <tr>\n",
       "      <th>...</th>\n",
       "      <td>...</td>\n",
       "      <td>...</td>\n",
       "      <td>...</td>\n",
       "      <td>...</td>\n",
       "      <td>...</td>\n",
       "    </tr>\n",
       "    <tr>\n",
       "      <th>180759</th>\n",
       "      <td>251596</td>\n",
       "      <td>11.00</td>\n",
       "      <td>NaN</td>\n",
       "      <td>13.0</td>\n",
       "      <td>10.0</td>\n",
       "    </tr>\n",
       "    <tr>\n",
       "      <th>180775</th>\n",
       "      <td>251596</td>\n",
       "      <td>11.00</td>\n",
       "      <td>28.0</td>\n",
       "      <td>13.0</td>\n",
       "      <td>10.0</td>\n",
       "    </tr>\n",
       "    <tr>\n",
       "      <th>181158</th>\n",
       "      <td>260818</td>\n",
       "      <td>3.00</td>\n",
       "      <td>NaN</td>\n",
       "      <td>6.0</td>\n",
       "      <td>5.0</td>\n",
       "    </tr>\n",
       "    <tr>\n",
       "      <th>181563</th>\n",
       "      <td>282741</td>\n",
       "      <td>6.00</td>\n",
       "      <td>NaN</td>\n",
       "      <td>7.0</td>\n",
       "      <td>5.0</td>\n",
       "    </tr>\n",
       "    <tr>\n",
       "      <th>182151</th>\n",
       "      <td>288701</td>\n",
       "      <td>8.00</td>\n",
       "      <td>NaN</td>\n",
       "      <td>9.0</td>\n",
       "      <td>5.0</td>\n",
       "    </tr>\n",
       "    <tr>\n",
       "      <th>182152</th>\n",
       "      <td>288701</td>\n",
       "      <td>8.00</td>\n",
       "      <td>NaN</td>\n",
       "      <td>9.0</td>\n",
       "      <td>5.0</td>\n",
       "    </tr>\n",
       "    <tr>\n",
       "      <th>182343</th>\n",
       "      <td>239239</td>\n",
       "      <td>2.00</td>\n",
       "      <td>NaN</td>\n",
       "      <td>7.0</td>\n",
       "      <td>5.0</td>\n",
       "    </tr>\n",
       "    <tr>\n",
       "      <th>182344</th>\n",
       "      <td>239239</td>\n",
       "      <td>2.00</td>\n",
       "      <td>NaN</td>\n",
       "      <td>7.0</td>\n",
       "      <td>5.0</td>\n",
       "    </tr>\n",
       "    <tr>\n",
       "      <th>182441</th>\n",
       "      <td>292581</td>\n",
       "      <td>7.00</td>\n",
       "      <td>NaN</td>\n",
       "      <td>8.0</td>\n",
       "      <td>5.0</td>\n",
       "    </tr>\n",
       "    <tr>\n",
       "      <th>182771</th>\n",
       "      <td>294561</td>\n",
       "      <td>10.00</td>\n",
       "      <td>24.0</td>\n",
       "      <td>11.0</td>\n",
       "      <td>5.0</td>\n",
       "    </tr>\n",
       "    <tr>\n",
       "      <th>183044</th>\n",
       "      <td>280003</td>\n",
       "      <td>12.00</td>\n",
       "      <td>24.0</td>\n",
       "      <td>14.0</td>\n",
       "      <td>8.0</td>\n",
       "    </tr>\n",
       "    <tr>\n",
       "      <th>184842</th>\n",
       "      <td>213258</td>\n",
       "      <td>5.10</td>\n",
       "      <td>NaN</td>\n",
       "      <td>15.5</td>\n",
       "      <td>7.7</td>\n",
       "    </tr>\n",
       "    <tr>\n",
       "      <th>185187</th>\n",
       "      <td>212877</td>\n",
       "      <td>0.22</td>\n",
       "      <td>18.0</td>\n",
       "      <td>9.0</td>\n",
       "      <td>5.0</td>\n",
       "    </tr>\n",
       "    <tr>\n",
       "      <th>185188</th>\n",
       "      <td>212877</td>\n",
       "      <td>0.22</td>\n",
       "      <td>18.0</td>\n",
       "      <td>9.0</td>\n",
       "      <td>5.0</td>\n",
       "    </tr>\n",
       "    <tr>\n",
       "      <th>186530</th>\n",
       "      <td>251966</td>\n",
       "      <td>9.30</td>\n",
       "      <td>24.0</td>\n",
       "      <td>12.0</td>\n",
       "      <td>8.0</td>\n",
       "    </tr>\n",
       "    <tr>\n",
       "      <th>187867</th>\n",
       "      <td>244122</td>\n",
       "      <td>2.10</td>\n",
       "      <td>NaN</td>\n",
       "      <td>10.1</td>\n",
       "      <td>8.0</td>\n",
       "    </tr>\n",
       "    <tr>\n",
       "      <th>187868</th>\n",
       "      <td>244122</td>\n",
       "      <td>2.10</td>\n",
       "      <td>NaN</td>\n",
       "      <td>6.3</td>\n",
       "      <td>5.2</td>\n",
       "    </tr>\n",
       "    <tr>\n",
       "      <th>187869</th>\n",
       "      <td>244122</td>\n",
       "      <td>2.10</td>\n",
       "      <td>NaN</td>\n",
       "      <td>6.2</td>\n",
       "      <td>5.2</td>\n",
       "    </tr>\n",
       "    <tr>\n",
       "      <th>188244</th>\n",
       "      <td>299540</td>\n",
       "      <td>3.00</td>\n",
       "      <td>34.0</td>\n",
       "      <td>23.0</td>\n",
       "      <td>18.0</td>\n",
       "    </tr>\n",
       "    <tr>\n",
       "      <th>188245</th>\n",
       "      <td>299540</td>\n",
       "      <td>3.00</td>\n",
       "      <td>34.0</td>\n",
       "      <td>23.0</td>\n",
       "      <td>18.0</td>\n",
       "    </tr>\n",
       "    <tr>\n",
       "      <th>189166</th>\n",
       "      <td>278053</td>\n",
       "      <td>12.00</td>\n",
       "      <td>NaN</td>\n",
       "      <td>16.0</td>\n",
       "      <td>12.0</td>\n",
       "    </tr>\n",
       "    <tr>\n",
       "      <th>189167</th>\n",
       "      <td>278053</td>\n",
       "      <td>12.00</td>\n",
       "      <td>NaN</td>\n",
       "      <td>17.0</td>\n",
       "      <td>12.0</td>\n",
       "    </tr>\n",
       "    <tr>\n",
       "      <th>192556</th>\n",
       "      <td>293244</td>\n",
       "      <td>12.00</td>\n",
       "      <td>27.0</td>\n",
       "      <td>16.0</td>\n",
       "      <td>12.0</td>\n",
       "    </tr>\n",
       "    <tr>\n",
       "      <th>192895</th>\n",
       "      <td>253079</td>\n",
       "      <td>6.00</td>\n",
       "      <td>NaN</td>\n",
       "      <td>7.0</td>\n",
       "      <td>5.0</td>\n",
       "    </tr>\n",
       "    <tr>\n",
       "      <th>193631</th>\n",
       "      <td>251489</td>\n",
       "      <td>6.00</td>\n",
       "      <td>NaN</td>\n",
       "      <td>8.0</td>\n",
       "      <td>5.0</td>\n",
       "    </tr>\n",
       "    <tr>\n",
       "      <th>194223</th>\n",
       "      <td>223357</td>\n",
       "      <td>20.00</td>\n",
       "      <td>16.0</td>\n",
       "      <td>22.0</td>\n",
       "      <td>5.0</td>\n",
       "    </tr>\n",
       "    <tr>\n",
       "      <th>194379</th>\n",
       "      <td>209791</td>\n",
       "      <td>13.00</td>\n",
       "      <td>NaN</td>\n",
       "      <td>18.0</td>\n",
       "      <td>12.0</td>\n",
       "    </tr>\n",
       "    <tr>\n",
       "      <th>194404</th>\n",
       "      <td>209791</td>\n",
       "      <td>14.00</td>\n",
       "      <td>22.0</td>\n",
       "      <td>16.0</td>\n",
       "      <td>12.0</td>\n",
       "    </tr>\n",
       "    <tr>\n",
       "      <th>194737</th>\n",
       "      <td>269543</td>\n",
       "      <td>2.00</td>\n",
       "      <td>NaN</td>\n",
       "      <td>7.0</td>\n",
       "      <td>5.0</td>\n",
       "    </tr>\n",
       "    <tr>\n",
       "      <th>195087</th>\n",
       "      <td>213668</td>\n",
       "      <td>11.00</td>\n",
       "      <td>NaN</td>\n",
       "      <td>13.0</td>\n",
       "      <td>5.0</td>\n",
       "    </tr>\n",
       "  </tbody>\n",
       "</table>\n",
       "<p>225 rows × 5 columns</p>\n",
       "</div>"
      ],
      "text/plain": [
       "        icustay_id    pip  plap   map  peep\n",
       "2424        298056   7.50   NaN  15.6  12.7\n",
       "3210        209498  34.00  21.0  55.0   5.0\n",
       "8803        273137   7.00   NaN   8.0   5.0\n",
       "8804        273137   7.00   NaN   8.0   5.0\n",
       "9696        200286   6.00   NaN   7.0   5.0\n",
       "9717        282701  22.00  35.0  24.0  20.0\n",
       "10176       208409  14.00  21.0  18.0   8.0\n",
       "10222       239032  11.00   NaN  13.0  10.0\n",
       "10957       245121   3.00   NaN   6.0   5.0\n",
       "12226       244922   2.10   NaN   8.2   5.0\n",
       "12939       290843   6.90   NaN  12.2   9.8\n",
       "14393       295908   2.00   NaN  15.0  10.0\n",
       "17200       257665  15.60  24.0  15.9   5.0\n",
       "18205       271067  24.00  23.0  48.0  15.0\n",
       "18206       271067  24.00  19.0  48.0  15.0\n",
       "18978       201005  15.00  20.0  17.0   8.0\n",
       "18979       201005  15.00  20.0  17.0  10.0\n",
       "21079       296321   1.00   NaN  20.0   NaN\n",
       "21617       245545   2.00   NaN   6.0   5.0\n",
       "21618       245545   2.00   NaN   6.0   5.0\n",
       "23004       274877  16.00  26.0  19.0   NaN\n",
       "23493       283895   7.20  19.0   8.0   5.0\n",
       "23494       283895   7.20  19.0   8.0   5.0\n",
       "23686       279373  11.00  23.0  18.0   5.0\n",
       "27547       237080  10.20  23.0  11.0   8.0\n",
       "29094       227999  36.00  30.0  37.0  12.0\n",
       "29095       227999  36.00  30.0  37.0  12.0\n",
       "29184       230135   9.00  25.0  14.0  10.0\n",
       "31207       214485   3.00   NaN   8.0   5.0\n",
       "31208       214485   3.00   NaN   8.0   5.0\n",
       "...            ...    ...   ...   ...   ...\n",
       "180759      251596  11.00   NaN  13.0  10.0\n",
       "180775      251596  11.00  28.0  13.0  10.0\n",
       "181158      260818   3.00   NaN   6.0   5.0\n",
       "181563      282741   6.00   NaN   7.0   5.0\n",
       "182151      288701   8.00   NaN   9.0   5.0\n",
       "182152      288701   8.00   NaN   9.0   5.0\n",
       "182343      239239   2.00   NaN   7.0   5.0\n",
       "182344      239239   2.00   NaN   7.0   5.0\n",
       "182441      292581   7.00   NaN   8.0   5.0\n",
       "182771      294561  10.00  24.0  11.0   5.0\n",
       "183044      280003  12.00  24.0  14.0   8.0\n",
       "184842      213258   5.10   NaN  15.5   7.7\n",
       "185187      212877   0.22  18.0   9.0   5.0\n",
       "185188      212877   0.22  18.0   9.0   5.0\n",
       "186530      251966   9.30  24.0  12.0   8.0\n",
       "187867      244122   2.10   NaN  10.1   8.0\n",
       "187868      244122   2.10   NaN   6.3   5.2\n",
       "187869      244122   2.10   NaN   6.2   5.2\n",
       "188244      299540   3.00  34.0  23.0  18.0\n",
       "188245      299540   3.00  34.0  23.0  18.0\n",
       "189166      278053  12.00   NaN  16.0  12.0\n",
       "189167      278053  12.00   NaN  17.0  12.0\n",
       "192556      293244  12.00  27.0  16.0  12.0\n",
       "192895      253079   6.00   NaN   7.0   5.0\n",
       "193631      251489   6.00   NaN   8.0   5.0\n",
       "194223      223357  20.00  16.0  22.0   5.0\n",
       "194379      209791  13.00   NaN  18.0  12.0\n",
       "194404      209791  14.00  22.0  16.0  12.0\n",
       "194737      269543   2.00   NaN   7.0   5.0\n",
       "195087      213668  11.00   NaN  13.0   5.0\n",
       "\n",
       "[225 rows x 5 columns]"
      ]
     },
     "execution_count": 145,
     "metadata": {},
     "output_type": "execute_result"
    }
   ],
   "source": [
    "data.loc[data['pip']<data['map'],['icustay_id','pip','plap','map','peep']]"
   ]
  },
  {
   "cell_type": "code",
   "execution_count": 146,
   "metadata": {
    "collapsed": true
   },
   "outputs": [
    {
     "data": {
      "text/html": [
       "<div>\n",
       "<style>\n",
       "    .dataframe thead tr:only-child th {\n",
       "        text-align: right;\n",
       "    }\n",
       "\n",
       "    .dataframe thead th {\n",
       "        text-align: left;\n",
       "    }\n",
       "\n",
       "    .dataframe tbody tr th {\n",
       "        vertical-align: top;\n",
       "    }\n",
       "</style>\n",
       "<table border=\"1\" class=\"dataframe\">\n",
       "  <thead>\n",
       "    <tr style=\"text-align: right;\">\n",
       "      <th></th>\n",
       "      <th>icustay_id</th>\n",
       "      <th>pip</th>\n",
       "      <th>plap</th>\n",
       "      <th>map</th>\n",
       "      <th>peep</th>\n",
       "    </tr>\n",
       "  </thead>\n",
       "  <tbody>\n",
       "    <tr>\n",
       "      <th>60</th>\n",
       "      <td>209821</td>\n",
       "      <td>14.000000</td>\n",
       "      <td>16.0</td>\n",
       "      <td>7.0</td>\n",
       "      <td>5.0</td>\n",
       "    </tr>\n",
       "    <tr>\n",
       "      <th>151</th>\n",
       "      <td>201741</td>\n",
       "      <td>27.000000</td>\n",
       "      <td>27.1</td>\n",
       "      <td>17.0</td>\n",
       "      <td>12.5</td>\n",
       "    </tr>\n",
       "    <tr>\n",
       "      <th>155</th>\n",
       "      <td>201741</td>\n",
       "      <td>24.799999</td>\n",
       "      <td>26.0</td>\n",
       "      <td>14.9</td>\n",
       "      <td>12.5</td>\n",
       "    </tr>\n",
       "    <tr>\n",
       "      <th>302</th>\n",
       "      <td>268104</td>\n",
       "      <td>19.000000</td>\n",
       "      <td>21.0</td>\n",
       "      <td>12.0</td>\n",
       "      <td>8.0</td>\n",
       "    </tr>\n",
       "    <tr>\n",
       "      <th>308</th>\n",
       "      <td>283748</td>\n",
       "      <td>24.000000</td>\n",
       "      <td>28.0</td>\n",
       "      <td>14.0</td>\n",
       "      <td>5.0</td>\n",
       "    </tr>\n",
       "    <tr>\n",
       "      <th>309</th>\n",
       "      <td>283748</td>\n",
       "      <td>24.000000</td>\n",
       "      <td>28.0</td>\n",
       "      <td>14.0</td>\n",
       "      <td>5.0</td>\n",
       "    </tr>\n",
       "    <tr>\n",
       "      <th>320</th>\n",
       "      <td>203121</td>\n",
       "      <td>26.000000</td>\n",
       "      <td>27.0</td>\n",
       "      <td>14.0</td>\n",
       "      <td>5.0</td>\n",
       "    </tr>\n",
       "    <tr>\n",
       "      <th>541</th>\n",
       "      <td>209016</td>\n",
       "      <td>19.000000</td>\n",
       "      <td>30.0</td>\n",
       "      <td>15.0</td>\n",
       "      <td>12.0</td>\n",
       "    </tr>\n",
       "    <tr>\n",
       "      <th>586</th>\n",
       "      <td>209016</td>\n",
       "      <td>26.000000</td>\n",
       "      <td>27.0</td>\n",
       "      <td>19.0</td>\n",
       "      <td>14.0</td>\n",
       "    </tr>\n",
       "    <tr>\n",
       "      <th>588</th>\n",
       "      <td>209016</td>\n",
       "      <td>20.000000</td>\n",
       "      <td>26.0</td>\n",
       "      <td>16.0</td>\n",
       "      <td>8.0</td>\n",
       "    </tr>\n",
       "    <tr>\n",
       "      <th>603</th>\n",
       "      <td>263430</td>\n",
       "      <td>13.000000</td>\n",
       "      <td>20.0</td>\n",
       "      <td>7.0</td>\n",
       "      <td>5.0</td>\n",
       "    </tr>\n",
       "    <tr>\n",
       "      <th>618</th>\n",
       "      <td>226474</td>\n",
       "      <td>17.000000</td>\n",
       "      <td>18.0</td>\n",
       "      <td>6.0</td>\n",
       "      <td>5.0</td>\n",
       "    </tr>\n",
       "    <tr>\n",
       "      <th>619</th>\n",
       "      <td>226474</td>\n",
       "      <td>17.000000</td>\n",
       "      <td>18.0</td>\n",
       "      <td>7.0</td>\n",
       "      <td>5.0</td>\n",
       "    </tr>\n",
       "    <tr>\n",
       "      <th>650</th>\n",
       "      <td>226474</td>\n",
       "      <td>23.000000</td>\n",
       "      <td>25.0</td>\n",
       "      <td>8.0</td>\n",
       "      <td>10.0</td>\n",
       "    </tr>\n",
       "    <tr>\n",
       "      <th>669</th>\n",
       "      <td>226474</td>\n",
       "      <td>12.000000</td>\n",
       "      <td>27.0</td>\n",
       "      <td>10.0</td>\n",
       "      <td>5.0</td>\n",
       "    </tr>\n",
       "    <tr>\n",
       "      <th>1072</th>\n",
       "      <td>292577</td>\n",
       "      <td>22.000000</td>\n",
       "      <td>26.0</td>\n",
       "      <td>15.0</td>\n",
       "      <td>12.0</td>\n",
       "    </tr>\n",
       "    <tr>\n",
       "      <th>1140</th>\n",
       "      <td>254807</td>\n",
       "      <td>11.000000</td>\n",
       "      <td>28.0</td>\n",
       "      <td>6.0</td>\n",
       "      <td>5.0</td>\n",
       "    </tr>\n",
       "    <tr>\n",
       "      <th>1179</th>\n",
       "      <td>281792</td>\n",
       "      <td>18.000000</td>\n",
       "      <td>19.0</td>\n",
       "      <td>11.0</td>\n",
       "      <td>5.0</td>\n",
       "    </tr>\n",
       "    <tr>\n",
       "      <th>1186</th>\n",
       "      <td>281792</td>\n",
       "      <td>16.000000</td>\n",
       "      <td>17.0</td>\n",
       "      <td>9.0</td>\n",
       "      <td>10.0</td>\n",
       "    </tr>\n",
       "    <tr>\n",
       "      <th>1187</th>\n",
       "      <td>281792</td>\n",
       "      <td>16.000000</td>\n",
       "      <td>17.0</td>\n",
       "      <td>9.0</td>\n",
       "      <td>10.0</td>\n",
       "    </tr>\n",
       "    <tr>\n",
       "      <th>1188</th>\n",
       "      <td>281792</td>\n",
       "      <td>16.000000</td>\n",
       "      <td>17.0</td>\n",
       "      <td>9.0</td>\n",
       "      <td>10.0</td>\n",
       "    </tr>\n",
       "    <tr>\n",
       "      <th>1189</th>\n",
       "      <td>281792</td>\n",
       "      <td>16.000000</td>\n",
       "      <td>17.0</td>\n",
       "      <td>9.0</td>\n",
       "      <td>5.0</td>\n",
       "    </tr>\n",
       "    <tr>\n",
       "      <th>1190</th>\n",
       "      <td>281792</td>\n",
       "      <td>16.000000</td>\n",
       "      <td>21.0</td>\n",
       "      <td>9.0</td>\n",
       "      <td>5.0</td>\n",
       "    </tr>\n",
       "    <tr>\n",
       "      <th>1242</th>\n",
       "      <td>240404</td>\n",
       "      <td>16.000000</td>\n",
       "      <td>21.0</td>\n",
       "      <td>8.0</td>\n",
       "      <td>5.0</td>\n",
       "    </tr>\n",
       "    <tr>\n",
       "      <th>1383</th>\n",
       "      <td>271148</td>\n",
       "      <td>21.000000</td>\n",
       "      <td>23.0</td>\n",
       "      <td>11.0</td>\n",
       "      <td>5.0</td>\n",
       "    </tr>\n",
       "    <tr>\n",
       "      <th>1415</th>\n",
       "      <td>271148</td>\n",
       "      <td>29.000000</td>\n",
       "      <td>32.0</td>\n",
       "      <td>15.0</td>\n",
       "      <td>5.0</td>\n",
       "    </tr>\n",
       "    <tr>\n",
       "      <th>1702</th>\n",
       "      <td>295380</td>\n",
       "      <td>15.000000</td>\n",
       "      <td>16.0</td>\n",
       "      <td>9.0</td>\n",
       "      <td>5.0</td>\n",
       "    </tr>\n",
       "    <tr>\n",
       "      <th>1938</th>\n",
       "      <td>246638</td>\n",
       "      <td>25.000000</td>\n",
       "      <td>29.0</td>\n",
       "      <td>11.0</td>\n",
       "      <td>5.0</td>\n",
       "    </tr>\n",
       "    <tr>\n",
       "      <th>1971</th>\n",
       "      <td>204169</td>\n",
       "      <td>15.000000</td>\n",
       "      <td>20.0</td>\n",
       "      <td>13.0</td>\n",
       "      <td>10.0</td>\n",
       "    </tr>\n",
       "    <tr>\n",
       "      <th>2103</th>\n",
       "      <td>235465</td>\n",
       "      <td>16.000000</td>\n",
       "      <td>25.0</td>\n",
       "      <td>2.0</td>\n",
       "      <td>5.0</td>\n",
       "    </tr>\n",
       "    <tr>\n",
       "      <th>...</th>\n",
       "      <td>...</td>\n",
       "      <td>...</td>\n",
       "      <td>...</td>\n",
       "      <td>...</td>\n",
       "      <td>...</td>\n",
       "    </tr>\n",
       "    <tr>\n",
       "      <th>194233</th>\n",
       "      <td>211561</td>\n",
       "      <td>11.000000</td>\n",
       "      <td>15.0</td>\n",
       "      <td>6.0</td>\n",
       "      <td>5.0</td>\n",
       "    </tr>\n",
       "    <tr>\n",
       "      <th>194234</th>\n",
       "      <td>211561</td>\n",
       "      <td>11.000000</td>\n",
       "      <td>15.0</td>\n",
       "      <td>6.0</td>\n",
       "      <td>5.0</td>\n",
       "    </tr>\n",
       "    <tr>\n",
       "      <th>194235</th>\n",
       "      <td>211561</td>\n",
       "      <td>11.000000</td>\n",
       "      <td>15.0</td>\n",
       "      <td>7.0</td>\n",
       "      <td>NaN</td>\n",
       "    </tr>\n",
       "    <tr>\n",
       "      <th>194274</th>\n",
       "      <td>223448</td>\n",
       "      <td>10.000000</td>\n",
       "      <td>24.0</td>\n",
       "      <td>7.0</td>\n",
       "      <td>5.0</td>\n",
       "    </tr>\n",
       "    <tr>\n",
       "      <th>194279</th>\n",
       "      <td>223448</td>\n",
       "      <td>15.000000</td>\n",
       "      <td>25.0</td>\n",
       "      <td>6.0</td>\n",
       "      <td>5.0</td>\n",
       "    </tr>\n",
       "    <tr>\n",
       "      <th>194348</th>\n",
       "      <td>270587</td>\n",
       "      <td>16.000000</td>\n",
       "      <td>18.0</td>\n",
       "      <td>12.0</td>\n",
       "      <td>10.0</td>\n",
       "    </tr>\n",
       "    <tr>\n",
       "      <th>194393</th>\n",
       "      <td>209791</td>\n",
       "      <td>22.000000</td>\n",
       "      <td>26.0</td>\n",
       "      <td>14.0</td>\n",
       "      <td>12.0</td>\n",
       "    </tr>\n",
       "    <tr>\n",
       "      <th>194404</th>\n",
       "      <td>209791</td>\n",
       "      <td>14.000000</td>\n",
       "      <td>22.0</td>\n",
       "      <td>16.0</td>\n",
       "      <td>12.0</td>\n",
       "    </tr>\n",
       "    <tr>\n",
       "      <th>194407</th>\n",
       "      <td>209791</td>\n",
       "      <td>19.000000</td>\n",
       "      <td>26.0</td>\n",
       "      <td>12.0</td>\n",
       "      <td>10.0</td>\n",
       "    </tr>\n",
       "    <tr>\n",
       "      <th>194414</th>\n",
       "      <td>225551</td>\n",
       "      <td>10.000000</td>\n",
       "      <td>21.0</td>\n",
       "      <td>6.0</td>\n",
       "      <td>5.0</td>\n",
       "    </tr>\n",
       "    <tr>\n",
       "      <th>194418</th>\n",
       "      <td>225551</td>\n",
       "      <td>14.000000</td>\n",
       "      <td>17.0</td>\n",
       "      <td>7.0</td>\n",
       "      <td>5.0</td>\n",
       "    </tr>\n",
       "    <tr>\n",
       "      <th>194471</th>\n",
       "      <td>242765</td>\n",
       "      <td>18.000000</td>\n",
       "      <td>22.0</td>\n",
       "      <td>10.0</td>\n",
       "      <td>10.0</td>\n",
       "    </tr>\n",
       "    <tr>\n",
       "      <th>194489</th>\n",
       "      <td>282529</td>\n",
       "      <td>15.000000</td>\n",
       "      <td>17.0</td>\n",
       "      <td>11.0</td>\n",
       "      <td>10.0</td>\n",
       "    </tr>\n",
       "    <tr>\n",
       "      <th>194600</th>\n",
       "      <td>299660</td>\n",
       "      <td>11.000000</td>\n",
       "      <td>14.0</td>\n",
       "      <td>6.0</td>\n",
       "      <td>5.0</td>\n",
       "    </tr>\n",
       "    <tr>\n",
       "      <th>194652</th>\n",
       "      <td>240442</td>\n",
       "      <td>31.000000</td>\n",
       "      <td>36.0</td>\n",
       "      <td>14.0</td>\n",
       "      <td>10.0</td>\n",
       "    </tr>\n",
       "    <tr>\n",
       "      <th>194653</th>\n",
       "      <td>240442</td>\n",
       "      <td>31.000000</td>\n",
       "      <td>36.0</td>\n",
       "      <td>14.0</td>\n",
       "      <td>10.0</td>\n",
       "    </tr>\n",
       "    <tr>\n",
       "      <th>194690</th>\n",
       "      <td>211052</td>\n",
       "      <td>23.000000</td>\n",
       "      <td>24.0</td>\n",
       "      <td>11.0</td>\n",
       "      <td>8.0</td>\n",
       "    </tr>\n",
       "    <tr>\n",
       "      <th>194745</th>\n",
       "      <td>269543</td>\n",
       "      <td>16.000000</td>\n",
       "      <td>20.0</td>\n",
       "      <td>12.0</td>\n",
       "      <td>10.0</td>\n",
       "    </tr>\n",
       "    <tr>\n",
       "      <th>194848</th>\n",
       "      <td>299853</td>\n",
       "      <td>15.000000</td>\n",
       "      <td>23.0</td>\n",
       "      <td>8.0</td>\n",
       "      <td>5.0</td>\n",
       "    </tr>\n",
       "    <tr>\n",
       "      <th>194849</th>\n",
       "      <td>299853</td>\n",
       "      <td>15.000000</td>\n",
       "      <td>23.0</td>\n",
       "      <td>8.0</td>\n",
       "      <td>5.0</td>\n",
       "    </tr>\n",
       "    <tr>\n",
       "      <th>194883</th>\n",
       "      <td>262343</td>\n",
       "      <td>11.000000</td>\n",
       "      <td>15.0</td>\n",
       "      <td>7.0</td>\n",
       "      <td>5.0</td>\n",
       "    </tr>\n",
       "    <tr>\n",
       "      <th>194959</th>\n",
       "      <td>262343</td>\n",
       "      <td>29.000000</td>\n",
       "      <td>30.0</td>\n",
       "      <td>10.0</td>\n",
       "      <td>5.0</td>\n",
       "    </tr>\n",
       "    <tr>\n",
       "      <th>194960</th>\n",
       "      <td>262343</td>\n",
       "      <td>29.000000</td>\n",
       "      <td>30.0</td>\n",
       "      <td>10.0</td>\n",
       "      <td>5.0</td>\n",
       "    </tr>\n",
       "    <tr>\n",
       "      <th>195146</th>\n",
       "      <td>213668</td>\n",
       "      <td>24.000000</td>\n",
       "      <td>29.0</td>\n",
       "      <td>11.0</td>\n",
       "      <td>8.0</td>\n",
       "    </tr>\n",
       "    <tr>\n",
       "      <th>195214</th>\n",
       "      <td>280892</td>\n",
       "      <td>32.000000</td>\n",
       "      <td>33.0</td>\n",
       "      <td>18.0</td>\n",
       "      <td>10.0</td>\n",
       "    </tr>\n",
       "    <tr>\n",
       "      <th>195249</th>\n",
       "      <td>274114</td>\n",
       "      <td>15.000000</td>\n",
       "      <td>19.0</td>\n",
       "      <td>8.0</td>\n",
       "      <td>5.0</td>\n",
       "    </tr>\n",
       "    <tr>\n",
       "      <th>195250</th>\n",
       "      <td>274114</td>\n",
       "      <td>15.000000</td>\n",
       "      <td>19.0</td>\n",
       "      <td>8.0</td>\n",
       "      <td>8.0</td>\n",
       "    </tr>\n",
       "    <tr>\n",
       "      <th>195251</th>\n",
       "      <td>274114</td>\n",
       "      <td>5.000000</td>\n",
       "      <td>19.0</td>\n",
       "      <td>2.0</td>\n",
       "      <td>8.0</td>\n",
       "    </tr>\n",
       "    <tr>\n",
       "      <th>195426</th>\n",
       "      <td>238023</td>\n",
       "      <td>17.000000</td>\n",
       "      <td>19.0</td>\n",
       "      <td>10.0</td>\n",
       "      <td>8.0</td>\n",
       "    </tr>\n",
       "    <tr>\n",
       "      <th>195709</th>\n",
       "      <td>299247</td>\n",
       "      <td>18.000000</td>\n",
       "      <td>22.0</td>\n",
       "      <td>11.0</td>\n",
       "      <td>5.0</td>\n",
       "    </tr>\n",
       "  </tbody>\n",
       "</table>\n",
       "<p>4280 rows × 5 columns</p>\n",
       "</div>"
      ],
      "text/plain": [
       "        icustay_id        pip  plap   map  peep\n",
       "60          209821  14.000000  16.0   7.0   5.0\n",
       "151         201741  27.000000  27.1  17.0  12.5\n",
       "155         201741  24.799999  26.0  14.9  12.5\n",
       "302         268104  19.000000  21.0  12.0   8.0\n",
       "308         283748  24.000000  28.0  14.0   5.0\n",
       "309         283748  24.000000  28.0  14.0   5.0\n",
       "320         203121  26.000000  27.0  14.0   5.0\n",
       "541         209016  19.000000  30.0  15.0  12.0\n",
       "586         209016  26.000000  27.0  19.0  14.0\n",
       "588         209016  20.000000  26.0  16.0   8.0\n",
       "603         263430  13.000000  20.0   7.0   5.0\n",
       "618         226474  17.000000  18.0   6.0   5.0\n",
       "619         226474  17.000000  18.0   7.0   5.0\n",
       "650         226474  23.000000  25.0   8.0  10.0\n",
       "669         226474  12.000000  27.0  10.0   5.0\n",
       "1072        292577  22.000000  26.0  15.0  12.0\n",
       "1140        254807  11.000000  28.0   6.0   5.0\n",
       "1179        281792  18.000000  19.0  11.0   5.0\n",
       "1186        281792  16.000000  17.0   9.0  10.0\n",
       "1187        281792  16.000000  17.0   9.0  10.0\n",
       "1188        281792  16.000000  17.0   9.0  10.0\n",
       "1189        281792  16.000000  17.0   9.0   5.0\n",
       "1190        281792  16.000000  21.0   9.0   5.0\n",
       "1242        240404  16.000000  21.0   8.0   5.0\n",
       "1383        271148  21.000000  23.0  11.0   5.0\n",
       "1415        271148  29.000000  32.0  15.0   5.0\n",
       "1702        295380  15.000000  16.0   9.0   5.0\n",
       "1938        246638  25.000000  29.0  11.0   5.0\n",
       "1971        204169  15.000000  20.0  13.0  10.0\n",
       "2103        235465  16.000000  25.0   2.0   5.0\n",
       "...            ...        ...   ...   ...   ...\n",
       "194233      211561  11.000000  15.0   6.0   5.0\n",
       "194234      211561  11.000000  15.0   6.0   5.0\n",
       "194235      211561  11.000000  15.0   7.0   NaN\n",
       "194274      223448  10.000000  24.0   7.0   5.0\n",
       "194279      223448  15.000000  25.0   6.0   5.0\n",
       "194348      270587  16.000000  18.0  12.0  10.0\n",
       "194393      209791  22.000000  26.0  14.0  12.0\n",
       "194404      209791  14.000000  22.0  16.0  12.0\n",
       "194407      209791  19.000000  26.0  12.0  10.0\n",
       "194414      225551  10.000000  21.0   6.0   5.0\n",
       "194418      225551  14.000000  17.0   7.0   5.0\n",
       "194471      242765  18.000000  22.0  10.0  10.0\n",
       "194489      282529  15.000000  17.0  11.0  10.0\n",
       "194600      299660  11.000000  14.0   6.0   5.0\n",
       "194652      240442  31.000000  36.0  14.0  10.0\n",
       "194653      240442  31.000000  36.0  14.0  10.0\n",
       "194690      211052  23.000000  24.0  11.0   8.0\n",
       "194745      269543  16.000000  20.0  12.0  10.0\n",
       "194848      299853  15.000000  23.0   8.0   5.0\n",
       "194849      299853  15.000000  23.0   8.0   5.0\n",
       "194883      262343  11.000000  15.0   7.0   5.0\n",
       "194959      262343  29.000000  30.0  10.0   5.0\n",
       "194960      262343  29.000000  30.0  10.0   5.0\n",
       "195146      213668  24.000000  29.0  11.0   8.0\n",
       "195214      280892  32.000000  33.0  18.0  10.0\n",
       "195249      274114  15.000000  19.0   8.0   5.0\n",
       "195250      274114  15.000000  19.0   8.0   8.0\n",
       "195251      274114   5.000000  19.0   2.0   8.0\n",
       "195426      238023  17.000000  19.0  10.0   8.0\n",
       "195709      299247  18.000000  22.0  11.0   5.0\n",
       "\n",
       "[4280 rows x 5 columns]"
      ]
     },
     "execution_count": 146,
     "metadata": {},
     "output_type": "execute_result"
    }
   ],
   "source": [
    "data.loc[data['pip']<data['plap'],['icustay_id','pip','plap','map','peep']]"
   ]
  },
  {
   "cell_type": "code",
   "execution_count": 147,
   "metadata": {},
   "outputs": [
    {
     "data": {
      "text/plain": [
       "count    140032.000000\n",
       "mean         26.819305\n",
       "std           8.373100\n",
       "min           0.200000\n",
       "25%          21.000000\n",
       "50%          26.600000\n",
       "75%          32.000000\n",
       "max          90.000000\n",
       "Name: pip, dtype: float64"
      ]
     },
     "execution_count": 147,
     "metadata": {},
     "output_type": "execute_result"
    }
   ],
   "source": [
    "#pip = 最大吸气压力，paek pressure 一般在9-16 一般不应该超过35-40\n",
    "data.pip.describe()"
   ]
  },
  {
   "cell_type": "code",
   "execution_count": null,
   "metadata": {
    "collapsed": true
   },
   "outputs": [],
   "source": [
    "'gcsmotor',\n",
    "       'gcsverbal', 'gcseyes', 'first_careunit', 'last_careunit',\n",
    "       'dbsource', 'age', 'ethnicity', 'admission_type', 'gender',\n",
    "       'height_first', 'height_min', 'height_max', 'weight_first',\n",
    "       'weight_min', 'weight_max']"
   ]
  },
  {
   "cell_type": "markdown",
   "metadata": {},
   "source": [
    "GCS 分析\n",
    "<br>三种评分分开看，而不是直接观察总值,其中分值越低，病人病情越严重\n",
    "<br>gcsmotor 最佳运动反应 1-6分,\n",
    "<br>gcsverbal 语言反应 1-5\n",
    "<br>gcseyes 睁眼运动 1-4"
   ]
  },
  {
   "cell_type": "markdown",
   "metadata": {},
   "source": [
    "gcsmotor 最佳运动反应 1-6"
   ]
  },
  {
   "cell_type": "code",
   "execution_count": 166,
   "metadata": {},
   "outputs": [
    {
     "data": {
      "text/plain": [
       "<matplotlib.axes._subplots.AxesSubplot at 0x23be974a7b8>"
      ]
     },
     "execution_count": 166,
     "metadata": {},
     "output_type": "execute_result"
    },
    {
     "data": {
      "image/png": "[encoded data removed]",
      "text/plain": [
       "<matplotlib.figure.Figure at 0x23be959acf8>"
      ]
     },
     "metadata": {},
     "output_type": "display_data"
    }
   ],
   "source": [
    "plt.subplot2grid((1,2),(0,0))\n",
    "plt.scatter(range(len(data)),data['gcsmotor'])\n",
    "plt.subplot2grid((1,2),(0,1))\n",
    "data['gcsmotor'].plot.box()"
   ]
  },
  {
   "cell_type": "code",
   "execution_count": 168,
   "metadata": {},
   "outputs": [
    {
     "data": {
      "text/plain": [
       "<Container object of 6 artists>"
      ]
     },
     "execution_count": 168,
     "metadata": {},
     "output_type": "execute_result"
    },
    {
     "data": {
      "image/png": "[encoded data removed]",
      "text/plain": [
       "<matplotlib.figure.Figure at 0x23be96fff98>"
      ]
     },
     "metadata": {},
     "output_type": "display_data"
    }
   ],
   "source": [
    "temp=data.gcsmotor.value_counts()\n",
    "temp.index.values\n",
    "plt.bar(temp.index.values,list(temp))"
   ]
  },
  {
   "cell_type": "markdown",
   "metadata": {},
   "source": [
    "gcsverbal 语言反应 1-5 "
   ]
  },
  {
   "cell_type": "code",
   "execution_count": 169,
   "metadata": {},
   "outputs": [
    {
     "data": {
      "text/plain": [
       "<matplotlib.axes._subplots.AxesSubplot at 0x23bead076d8>"
      ]
     },
     "execution_count": 169,
     "metadata": {},
     "output_type": "execute_result"
    },
    {
     "data": {
      "image/png": "[encoded data removed]",
      "text/plain": [
       "<matplotlib.figure.Figure at 0x23bea9d4f28>"
      ]
     },
     "metadata": {},
     "output_type": "display_data"
    }
   ],
   "source": [
    "plt.subplot2grid((1,2),(0,0))\n",
    "plt.scatter(range(len(data)),data['gcsverbal'])\n",
    "plt.subplot2grid((1,2),(0,1))\n",
    "data['gcsverbal'].plot.box()"
   ]
  },
  {
   "cell_type": "code",
   "execution_count": 172,
   "metadata": {},
   "outputs": [
    {
     "data": {
      "text/plain": [
       "<Container object of 5 artists>"
      ]
     },
     "execution_count": 172,
     "metadata": {},
     "output_type": "execute_result"
    },
    {
     "data": {
      "image/png": "[encoded data removed]",
      "text/plain": [
       "<matplotlib.figure.Figure at 0x23be96ff358>"
      ]
     },
     "metadata": {},
     "output_type": "display_data"
    }
   ],
   "source": [
    "temp=data.gcsverbal.value_counts()\n",
    "temp.index.values\n",
    "plt.bar(temp.index.values,list(temp))"
   ]
  },
  {
   "cell_type": "markdown",
   "metadata": {},
   "source": [
    "gcseyes 睁眼运动 1-4"
   ]
  },
  {
   "cell_type": "code",
   "execution_count": 173,
   "metadata": {},
   "outputs": [
    {
     "data": {
      "text/plain": [
       "<matplotlib.axes._subplots.AxesSubplot at 0x23beb132f28>"
      ]
     },
     "execution_count": 173,
     "metadata": {},
     "output_type": "execute_result"
    },
    {
     "data": {
      "image/png": "[encoded data removed]",
      "text/plain": [
       "<matplotlib.figure.Figure at 0x23beadfb160>"
      ]
     },
     "metadata": {},
     "output_type": "display_data"
    }
   ],
   "source": [
    "plt.subplot2grid((1,2),(0,0))\n",
    "plt.scatter(range(len(data)),data['gcseyes'])\n",
    "plt.subplot2grid((1,2),(0,1))\n",
    "data['gcseyes'].plot.box()"
   ]
  },
  {
   "cell_type": "code",
   "execution_count": 174,
   "metadata": {},
   "outputs": [
    {
     "data": {
      "text/plain": [
       "<Container object of 4 artists>"
      ]
     },
     "execution_count": 174,
     "metadata": {},
     "output_type": "execute_result"
    },
    {
     "data": {
      "image/png": "[encoded data removed]",
      "text/plain": [
       "<matplotlib.figure.Figure at 0x23bed2c4518>"
      ]
     },
     "metadata": {},
     "output_type": "display_data"
    }
   ],
   "source": [
    "temp=data.gcseyes.value_counts()\n",
    "temp.index.values\n",
    "plt.bar(temp.index.values,list(temp))"
   ]
  },
  {
   "cell_type": "markdown",
   "metadata": {},
   "source": [
    "病人基本信息统计"
   ]
  },
  {
   "cell_type": "code",
   "execution_count": 188,
   "metadata": {},
   "outputs": [
    {
     "name": "stdout",
     "output_type": "stream",
     "text": [
      "                subject_id\n",
      "first_careunit            \n",
      "CCU                  21279\n",
      "CSRU                 63272\n",
      "MICU                 51047\n",
      "SICU                 29841\n",
      "TSICU                30327\n"
     ]
    }
   ],
   "source": [
    "g = data.groupby(['first_careunit'])\n",
    "df = pd.DataFrame(g.count()['subject_id'])\n",
    "print(df)"
   ]
  },
  {
   "cell_type": "markdown",
   "metadata": {},
   "source": [
    "冠心病监护室 CCU<br>\n",
    "心脏手术恢复单元 CSRU<br>\n",
    "内科重症监护病房 MICU<br>\n",
    "外科重症监护病房 SICU<br>\n",
    "创伤外科重症监护病房 TSICU"
   ]
  },
  {
   "cell_type": "code",
   "execution_count": 195,
   "metadata": {},
   "outputs": [
    {
     "data": {
      "text/plain": [
       "<Container object of 8362 artists>"
      ]
     },
     "execution_count": 195,
     "metadata": {},
     "output_type": "execute_result"
    },
    {
     "data": {
      "image/png": "[encoded data removed]",
      "text/plain": [
       "<matplotlib.figure.Figure at 0x23bed5ef3c8>"
      ]
     },
     "metadata": {},
     "output_type": "display_data"
    }
   ],
   "source": [
    "temp=data.age.value_counts()\n",
    "temp.index.values\n",
    "plt.bar(temp.index.values,list(temp))\n",
    "#忘记处理年龄了，大于300的统一为91.4"
   ]
  },
  {
   "cell_type": "code",
   "execution_count": 198,
   "metadata": {},
   "outputs": [
    {
     "data": {
      "text/plain": [
       "array(['subject_id', 'hadm_id', 'icustay_id', 'charttime', 'pao2', 'spo2',\n",
       "       'fio2', 'hr', 'temp', 'nbps', 'nbpd', 'nbpm', 'abps', 'abpd',\n",
       "       'abpm', 'rr', 'tv', 'pip', 'plap', 'mv', 'map', 'peep', 'gcsmotor',\n",
       "       'gcsverbal', 'gcseyes', 'first_careunit', 'last_careunit',\n",
       "       'dbsource', 'age', 'ethnicity', 'admission_type', 'gender',\n",
       "       'height_first', 'height_min', 'height_max', 'weight_first',\n",
       "       'weight_min', 'weight_max'], dtype=object)"
      ]
     },
     "execution_count": 198,
     "metadata": {},
     "output_type": "execute_result"
    }
   ],
   "source": [
    "data.columns.values"
   ]
  },
  {
   "cell_type": "code",
   "execution_count": 200,
   "metadata": {},
   "outputs": [
    {
     "name": "stdout",
     "output_type": "stream",
     "text": [
      "            subject_id\n",
      "dbsource              \n",
      "both              1032\n",
      "carevue         138135\n",
      "metavision       56599\n"
     ]
    }
   ],
   "source": [
    "g = data.groupby(['dbsource'])\n",
    "df = pd.DataFrame(g.count()['subject_id'])\n",
    "print(df)"
   ]
  },
  {
   "cell_type": "code",
   "execution_count": 202,
   "metadata": {},
   "outputs": [
    {
     "name": "stdout",
     "output_type": "stream",
     "text": [
      "                                            subject_id\n",
      "ethnicity                                             \n",
      "AMERICAN INDIAN/ALASKA NATIVE                      193\n",
      "ASIAN                                             2181\n",
      "ASIAN - ASIAN INDIAN                               305\n",
      "ASIAN - CAMBODIAN                                   15\n",
      "ASIAN - CHINESE                                    901\n",
      "ASIAN - FILIPINO                                    23\n",
      "ASIAN - JAPANESE                                    14\n",
      "ASIAN - KOREAN                                       7\n",
      "ASIAN - OTHER                                       97\n",
      "ASIAN - THAI                                         7\n",
      "ASIAN - VIETNAMESE                                  99\n",
      "BLACK/AFRICAN                                      248\n",
      "BLACK/AFRICAN AMERICAN                           10597\n",
      "BLACK/CAPE VERDEAN                                 419\n",
      "BLACK/HAITIAN                                      468\n",
      "HISPANIC OR LATINO                                4723\n",
      "HISPANIC/LATINO - CENTRAL AMERICAN (OTHER)           7\n",
      "HISPANIC/LATINO - COLOMBIAN                          7\n",
      "HISPANIC/LATINO - CUBAN                              6\n",
      "HISPANIC/LATINO - DOMINICAN                        251\n",
      "HISPANIC/LATINO - GUATEMALAN                        45\n",
      "HISPANIC/LATINO - HONDURAN                           2\n",
      "HISPANIC/LATINO - MEXICAN                           38\n",
      "HISPANIC/LATINO - PUERTO RICAN                     533\n",
      "HISPANIC/LATINO - SALVADORAN                        23\n",
      "MIDDLE EASTERN                                     147\n",
      "MULTI RACE ETHNICITY                               401\n",
      "NATIVE HAWAIIAN OR OTHER PACIFIC ISLANDER           48\n",
      "OTHER                                             4379\n",
      "PATIENT DECLINED TO ANSWER                        2208\n",
      "PORTUGUESE                                         180\n",
      "UNABLE TO OBTAIN                                  5161\n",
      "UNKNOWN/NOT SPECIFIED                            26037\n",
      "WHITE                                           135386\n",
      "WHITE - BRAZILIAN                                   47\n",
      "WHITE - EASTERN EUROPEAN                             9\n",
      "WHITE - OTHER EUROPEAN                             300\n",
      "WHITE - RUSSIAN                                    254\n"
     ]
    }
   ],
   "source": [
    "g = data.groupby(['ethnicity'])\n",
    "df = pd.DataFrame(g.count()['subject_id'])\n",
    "print(df)\n",
    "#种族分类"
   ]
  },
  {
   "cell_type": "code",
   "execution_count": 203,
   "metadata": {},
   "outputs": [
    {
     "name": "stdout",
     "output_type": "stream",
     "text": [
      "                subject_id\n",
      "admission_type            \n",
      "ELECTIVE             34548\n",
      "EMERGENCY           153094\n",
      "URGENT                8124\n"
     ]
    }
   ],
   "source": [
    "g = data.groupby(['admission_type'])\n",
    "df = pd.DataFrame(g.count()['subject_id'])\n",
    "print(df)"
   ]
  },
  {
   "cell_type": "markdown",
   "metadata": {},
   "source": [
    "关于身高体重"
   ]
  },
  {
   "cell_type": "code",
   "execution_count": 204,
   "metadata": {},
   "outputs": [
    {
     "data": {
      "text/plain": [
       "<matplotlib.axes._subplots.AxesSubplot at 0x23bed6848d0>"
      ]
     },
     "execution_count": 204,
     "metadata": {},
     "output_type": "execute_result"
    },
    {
     "data": {
      "image/png": "[encoded data removed]",
      "text/plain": [
       "<matplotlib.figure.Figure at 0x23beb2c5dd8>"
      ]
     },
     "metadata": {},
     "output_type": "display_data"
    }
   ],
   "source": [
    "plt.subplot2grid((1,2),(0,0))\n",
    "plt.scatter(range(len(data)),data['height_first'])\n",
    "plt.subplot2grid((1,2),(0,1))\n",
    "data['height_first'].plot.box()"
   ]
  },
  {
   "cell_type": "code",
   "execution_count": 205,
   "metadata": {},
   "outputs": [
    {
     "data": {
      "text/plain": [
       "<Container object of 83 artists>"
      ]
     },
     "execution_count": 205,
     "metadata": {},
     "output_type": "execute_result"
    },
    {
     "data": {
      "image/png": "[encoded data removed]",
      "text/plain": [
       "<matplotlib.figure.Figure at 0x23beb367eb8>"
      ]
     },
     "metadata": {},
     "output_type": "display_data"
    }
   ],
   "source": [
    "temp=data.height_first.value_counts()\n",
    "temp.index.values\n",
    "plt.bar(temp.index.values,list(temp))"
   ]
  },
  {
   "cell_type": "code",
   "execution_count": 207,
   "metadata": {},
   "outputs": [
    {
     "data": {
      "text/plain": [
       "<matplotlib.axes._subplots.AxesSubplot at 0x23bf0e02940>"
      ]
     },
     "execution_count": 207,
     "metadata": {},
     "output_type": "execute_result"
    },
    {
     "data": {
      "image/png": "[encoded data removed]",
      "text/plain": [
       "<matplotlib.figure.Figure at 0x23bf0a3ecc0>"
      ]
     },
     "metadata": {},
     "output_type": "display_data"
    }
   ],
   "source": [
    "plt.subplot2grid((1,2),(0,0))\n",
    "plt.scatter(range(len(data)),data['height_max'])\n",
    "plt.subplot2grid((1,2),(0,1))\n",
    "data['height_max'].plot.box()"
   ]
  },
  {
   "cell_type": "code",
   "execution_count": 208,
   "metadata": {},
   "outputs": [
    {
     "data": {
      "text/plain": [
       "<matplotlib.axes._subplots.AxesSubplot at 0x23bf6202c50>"
      ]
     },
     "execution_count": 208,
     "metadata": {},
     "output_type": "execute_result"
    },
    {
     "data": {
      "image/png": "[encoded data removed]",
      "text/plain": [
       "<matplotlib.figure.Figure at 0x23bf75aa630>"
      ]
     },
     "metadata": {},
     "output_type": "display_data"
    }
   ],
   "source": [
    "plt.subplot2grid((1,2),(0,0))\n",
    "plt.scatter(range(len(data)),data['height_min'])\n",
    "plt.subplot2grid((1,2),(0,1))\n",
    "data['height_min'].plot.box()"
   ]
  },
  {
   "cell_type": "markdown",
   "metadata": {},
   "source": [
    "通过对三种身高进行分析可以看出，first max min 没有明显的差异，异常值也比较固定，可以认为100-200之外的都是异常"
   ]
  },
  {
   "cell_type": "code",
   "execution_count": 209,
   "metadata": {},
   "outputs": [
    {
     "data": {
      "text/plain": [
       "<matplotlib.axes._subplots.AxesSubplot at 0x23bf28a3400>"
      ]
     },
     "execution_count": 209,
     "metadata": {},
     "output_type": "execute_result"
    },
    {
     "data": {
      "image/png": "[encoded data removed]",
      "text/plain": [
       "<matplotlib.figure.Figure at 0x23bf24d4e80>"
      ]
     },
     "metadata": {},
     "output_type": "display_data"
    }
   ],
   "source": [
    "plt.subplot2grid((1,2),(0,0))\n",
    "plt.scatter(range(len(data)),data['weight_first'])\n",
    "plt.subplot2grid((1,2),(0,1))\n",
    "data['weight_first'].plot.box()"
   ]
  },
  {
   "cell_type": "markdown",
   "metadata": {},
   "source": [
    "对于异常值的处理，不同参数处理的方式不一样，异常值的比例也会影响的吹了方式。<br>\n",
    "最简单直接的方法，就是将异常值，全部设为null，之后再用插值方法补全，尽可能的不造成整体数据信息的损失"
   ]
  },
  {
   "cell_type": "code",
   "execution_count": 4,
   "metadata": {
    "collapsed": true
   },
   "outputs": [],
   "source": [
    "import knnimpute"
   ]
  },
  {
   "cell_type": "code",
   "execution_count": 5,
   "metadata": {},
   "outputs": [
    {
     "name": "stdout",
     "output_type": "stream",
     "text": [
      "Help on package knnimpute:\n",
      "\n",
      "NAME\n",
      "    knnimpute\n",
      "\n",
      "PACKAGE CONTENTS\n",
      "    argpartition\n",
      "    common\n",
      "    few_observed_entries\n",
      "    normalized_distance\n",
      "    optimistic\n",
      "    reference\n",
      "\n",
      "FUNCTIONS\n",
      "    all_pairs_normalized_distances(X)\n",
      "        We can't really compute distances over incomplete data since\n",
      "        rows are missing different numbers of entries.\n",
      "        The next best thing is the mean squared difference between two vectors\n",
      "        (a normalized distance), which gets computed only over the columns that\n",
      "        two vectors have in common. If two vectors have no features in common\n",
      "        then their distance is infinity.\n",
      "        \n",
      "        Parameters\n",
      "        ----------\n",
      "        X : np.ndarray\n",
      "            Data matrix of shape (n_samples, n_features) with missing entries\n",
      "            marked using np.nan\n",
      "        \n",
      "        Returns a (n_samples, n_samples) matrix of pairwise normalized distances.\n",
      "    \n",
      "    all_pairs_normalized_distances_reference(X)\n",
      "        Reference implementation of normalized all-pairs distance, used\n",
      "        for testing the more efficient implementation above for equivalence.\n",
      "    \n",
      "    knn_impute_few_observed(X, missing_mask, k, verbose=False, print_interval=100)\n",
      "        Seems to be the fastest kNN implementation. Pre-sorts each rows neighbors\n",
      "        and then filters these sorted indices using each columns mask of\n",
      "        observed values.\n",
      "        \n",
      "        Important detail: If k observed values are not available then uses fewer\n",
      "        than k neighboring rows.\n",
      "        \n",
      "        Parameters\n",
      "        ----------\n",
      "        X : np.ndarray\n",
      "            Matrix to fill of shape (n_samples, n_features)\n",
      "        \n",
      "        missing_mask : np.ndarray\n",
      "            Boolean array of same shape as X\n",
      "        \n",
      "        k : int\n",
      "        \n",
      "        verbose : bool\n",
      "    \n",
      "    knn_impute_optimistic(X, missing_mask, k, verbose=False, print_interval=100)\n",
      "        Fill in the given incomplete matrix using k-nearest neighbor imputation.\n",
      "        \n",
      "        This version assumes that most of the time the same neighbors will be\n",
      "        used so first performs the weighted average of a row's k-nearest neighbors\n",
      "        and checks afterward whether it was valid (due to possible missing values).\n",
      "        \n",
      "        Has been observed to be a lot faster for 1/4 missing images matrix\n",
      "        with 1000 rows and ~9000 columns.\n",
      "        \n",
      "        Parameters\n",
      "        ----------\n",
      "        X : np.ndarray\n",
      "            Matrix to fill of shape (n_samples, n_features)\n",
      "        \n",
      "        missing_mask : np.ndarray\n",
      "            Boolean array of same shape as X\n",
      "        \n",
      "        k : int\n",
      "        \n",
      "        verbose : bool\n",
      "        \n",
      "        Modifies X by replacing its missing values with weighted averages of\n",
      "        similar rows. Returns the modified X.\n",
      "    \n",
      "    knn_impute_reference(X, missing_mask, k, verbose=False, print_interval=100)\n",
      "        Reference implementation of kNN imputation logic.\n",
      "    \n",
      "    knn_impute_with_argpartition(X, missing_mask, k, verbose=False, print_interval=100)\n",
      "        Fill in the given incomplete matrix using k-nearest neighbor imputation.\n",
      "        \n",
      "        This version is a simpler algorithm meant primarily for testing but\n",
      "        surprisingly it's faster for many (but not all) dataset sizes, particularly\n",
      "        when most of the columns are missing in any given row. The crucial\n",
      "        bottleneck is the call to numpy.argpartition for every missing element\n",
      "        in the array.\n",
      "        \n",
      "        Parameters\n",
      "        ----------\n",
      "        X : np.ndarray\n",
      "            Matrix to fill of shape (n_samples, n_features)\n",
      "        \n",
      "        missing_mask : np.ndarray\n",
      "            Boolean array of same shape as X\n",
      "        \n",
      "        k : int\n",
      "        \n",
      "        verbose : bool\n",
      "        \n",
      "        Returns a row-major copy of X with imputed values.\n",
      "    \n",
      "    knn_initialize(X, missing_mask, verbose=False, min_dist=1e-06, max_dist_multiplier=1000000.0)\n",
      "        Fill X with NaN values if necessary, construct the n_samples x n_samples\n",
      "        distance matrix and set the self-distance of each row to infinity.\n",
      "        \n",
      "        Returns contents of X laid out in row-major, the distance matrix,\n",
      "        and an \"effective infinity\" which is larger than any entry of the\n",
      "        distance matrix.\n",
      "\n",
      "DATA\n",
      "    __all__ = ['all_pairs_normalized_distances', 'all_pairs_normalized_dis...\n",
      "\n",
      "VERSION\n",
      "    0.1.0\n",
      "\n",
      "FILE\n",
      "    d:\\anaconda3\\lib\\site-packages\\knnimpute\\__init__.py\n",
      "\n",
      "\n"
     ]
    }
   ],
   "source": [
    "help(knnimpute)"
   ]
  },
  {
   "cell_type": "code",
   "execution_count": null,
   "metadata": {
    "collapsed": true
   },
   "outputs": [],
   "source": []
  }
 ],
 "metadata": {
  "kernelspec": {
   "display_name": "Python 3",
   "language": "python",
   "name": "python3"
  },
  "language_info": {
   "codemirror_mode": {
    "name": "ipython",
    "version": 3
   },
   "file_extension": ".py",
   "mimetype": "text/x-python",
   "name": "python",
   "nbconvert_exporter": "python",
   "pygments_lexer": "ipython3",
   "version": "3.5.2"
  }
 },
 "nbformat": 4,
 "nbformat_minor": 2
}
